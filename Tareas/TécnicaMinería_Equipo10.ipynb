{
  "nbformat": 4,
  "nbformat_minor": 0,
  "metadata": {
    "colab": {
      "name": "TécnicaMinería_Equipo10.ipynb",
      "provenance": [],
      "collapsed_sections": []
    },
    "kernelspec": {
      "name": "python3",
      "display_name": "Python 3"
    },
    "language_info": {
      "name": "python"
    }
  },
  "cells": [
    {
      "cell_type": "markdown",
      "metadata": {
        "id": "zpK8K35KivXX"
      },
      "source": [
        "# Equipo: 10\n",
        "Grupo: 002 Miércoles\n",
        "\n",
        "### Integrantes\n",
        "- 1864878 Cerda Serrato Alan René\n",
        "- 1867341 Cruz Lerma Jorge Antonio\n",
        "- 1941475 Galindo Vázquez Jesús Alfonso\n",
        "- 1630606 Valencia González Jesús Eduardo"
      ]
    },
    {
      "cell_type": "markdown",
      "metadata": {
        "id": "_QeiBnFTizbm"
      },
      "source": [
        "# Datos históricos del Bitcoin\n",
        "\n",
        "[Historical Bitcoin Data](https://www.kaggle.com/umeshkumar017/historical-bitcoin-data?select=Bitcoin+Historical+Data+-+In+Rupees.csv)"
      ]
    },
    {
      "cell_type": "markdown",
      "metadata": {
        "id": "AJts_IeVjhgj"
      },
      "source": [
        "# La técnica a utilizar es \"Series de tiempo\"."
      ]
    },
    {
      "cell_type": "markdown",
      "metadata": {
        "id": "dThMHWgGZmzl"
      },
      "source": [
        "Esto debido a la naturaleza de los datos (precios y fechas) y a nuestros objetivos.\n",
        "\n",
        "**Importar las librerías necesarias:**"
      ]
    },
    {
      "cell_type": "code",
      "metadata": {
        "colab": {
          "base_uri": "https://localhost:8080/"
        },
        "id": "GDxj_AgOipCg",
        "outputId": "e3deb84c-e9ea-48a6-9168-c73fbe5ed8db"
      },
      "source": [
        "import pandas as pd\n",
        "import numpy as np\n",
        "from dateutil import rrule\n",
        "from datetime import datetime\n",
        "import matplotlib.pyplot as plt\n",
        "from statsmodels.tsa.arima_model import ARIMA\n",
        "from statsmodels.tsa.stattools import adfuller"
      ],
      "execution_count": 1,
      "outputs": [
        {
          "output_type": "stream",
          "name": "stderr",
          "text": [
            "/usr/local/lib/python3.7/dist-packages/statsmodels/tools/_testing.py:19: FutureWarning: pandas.util.testing is deprecated. Use the functions in the public API at pandas.testing instead.\n",
            "  import pandas.util.testing as tm\n"
          ]
        }
      ]
    },
    {
      "cell_type": "markdown",
      "metadata": {
        "id": "9QF4Q2FPkUhZ"
      },
      "source": [
        "**Preparar los datos**"
      ]
    },
    {
      "cell_type": "code",
      "metadata": {
        "colab": {
          "base_uri": "https://localhost:8080/",
          "height": 142
        },
        "id": "99_s6LRNkqcG",
        "outputId": "fd8d9956-0c42-454e-8a3d-009da525a97a"
      },
      "source": [
        "df = pd.read_csv(\"/content/Bitcoin Historical Data - In Rupees.csv\")\n",
        "df.head(3)\n",
        "\n",
        "#Fuente de esta celda de código: https://www.kaggle.com/anseldsouza/bitcoin-price-prediction-using-lstm\n",
        "\n",
        "df.drop(columns = {'Open', 'High', 'Low', 'Vol.', 'Change %'}, inplace = True)\n",
        "\n",
        "df[\"Price\"] = df[\"Price\"].replace(\",\", \"\", regex = True)\n",
        "\n",
        "df[\"Date\"] = df[\"Date\"].replace(\",\", \"\", regex=True)\n",
        "df[\"Date\"] = df[\"Date\"].replace(\" \", \"-\", regex=True)\n",
        "df[\"Date\"] = df[\"Date\"].replace(\"Jan\", \"01\", regex=True)\n",
        "df[\"Date\"] = df[\"Date\"].replace(\"Feb\", \"02\", regex=True)\n",
        "df[\"Date\"] = df[\"Date\"].replace(\"Mar\", \"03\", regex=True)\n",
        "df[\"Date\"] = df[\"Date\"].replace(\"Apr\", \"04\", regex=True)\n",
        "df[\"Date\"] = df[\"Date\"].replace(\"May\", \"05\", regex=True)\n",
        "df[\"Date\"] = df[\"Date\"].replace(\"Jun\", \"06\", regex=True)\n",
        "df[\"Date\"] = df[\"Date\"].replace(\"Jul\", \"07\", regex=True)\n",
        "df[\"Date\"] = df[\"Date\"].replace(\"Aug\", \"08\", regex=True)\n",
        "df[\"Date\"] = df[\"Date\"].replace(\"Sep\", \"09\", regex=True)\n",
        "df[\"Date\"] = df[\"Date\"].replace(\"Oct\", \"10\", regex=True)\n",
        "df[\"Date\"] = df[\"Date\"].replace(\"Nov\", \"11\", regex=True)\n",
        "df[\"Date\"] = df[\"Date\"].replace(\"Dec\", \"12\", regex=True)\n",
        "\n",
        "df[\"Price\"] = pd.to_numeric(df[\"Price\"], downcast=\"float\")\n",
        "\n",
        "df['Date'] = pd.to_datetime(df[\"Date\"], format='%m-%d-%Y')\n",
        "\n",
        "df.head(3)"
      ],
      "execution_count": 2,
      "outputs": [
        {
          "output_type": "execute_result",
          "data": {
            "text/html": [
              "<div>\n",
              "<style scoped>\n",
              "    .dataframe tbody tr th:only-of-type {\n",
              "        vertical-align: middle;\n",
              "    }\n",
              "\n",
              "    .dataframe tbody tr th {\n",
              "        vertical-align: top;\n",
              "    }\n",
              "\n",
              "    .dataframe thead th {\n",
              "        text-align: right;\n",
              "    }\n",
              "</style>\n",
              "<table border=\"1\" class=\"dataframe\">\n",
              "  <thead>\n",
              "    <tr style=\"text-align: right;\">\n",
              "      <th></th>\n",
              "      <th>Date</th>\n",
              "      <th>Price</th>\n",
              "    </tr>\n",
              "  </thead>\n",
              "  <tbody>\n",
              "    <tr>\n",
              "      <th>0</th>\n",
              "      <td>2021-08-24</td>\n",
              "      <td>48846.300781</td>\n",
              "    </tr>\n",
              "    <tr>\n",
              "      <th>1</th>\n",
              "      <td>2021-08-23</td>\n",
              "      <td>49539.699219</td>\n",
              "    </tr>\n",
              "    <tr>\n",
              "      <th>2</th>\n",
              "      <td>2021-08-22</td>\n",
              "      <td>49254.500000</td>\n",
              "    </tr>\n",
              "  </tbody>\n",
              "</table>\n",
              "</div>"
            ],
            "text/plain": [
              "        Date         Price\n",
              "0 2021-08-24  48846.300781\n",
              "1 2021-08-23  49539.699219\n",
              "2 2021-08-22  49254.500000"
            ]
          },
          "metadata": {},
          "execution_count": 2
        }
      ]
    },
    {
      "cell_type": "markdown",
      "metadata": {
        "id": "4MAIpHrVX6cX"
      },
      "source": [
        "La serie ya tiene el formato correcto y se eliminaron las columnas que no son precios y fechas, ya que no son necesarias para cumplir nuestros objetivos:\n",
        "> **A)** Principal: Predecir si es viable invertir en el Bitcoin a corto y mediano plazo.\n",
        "\n",
        "> **B)** Secundario: Predecir si el valor del bitcoin seguirá a la alza."
      ]
    },
    {
      "cell_type": "markdown",
      "metadata": {
        "id": "gxSd-SsBlalp"
      },
      "source": [
        "**Técnica de minería: Series de tiempo**"
      ]
    },
    {
      "cell_type": "markdown",
      "metadata": {
        "id": "sxN1kvX0sx1J"
      },
      "source": [
        "*Ordenar los datos del más antiguo al más actual*"
      ]
    },
    {
      "cell_type": "markdown",
      "metadata": {
        "id": "2qs-G4MG2BnY"
      },
      "source": [
        "- Fechas"
      ]
    },
    {
      "cell_type": "code",
      "metadata": {
        "id": "ubMqT7ZWy7h7"
      },
      "source": [
        "idx = len(df['Date']) - 1\n",
        "newListx = []\n",
        "\n",
        "while (idx >= 0):\n",
        "  newListx.append(df['Date'][idx])\n",
        "  idx = idx - 1\n",
        "x = newListx\n",
        "df['Date'] = x"
      ],
      "execution_count": 3,
      "outputs": []
    },
    {
      "cell_type": "markdown",
      "metadata": {
        "id": "a6doc-iJ2DeK"
      },
      "source": [
        "- Precios"
      ]
    },
    {
      "cell_type": "code",
      "metadata": {
        "id": "K-ht6ZAD1q-F"
      },
      "source": [
        "idy = len(df['Price']) - 1\n",
        "newListy = []\n",
        "\n",
        "while (idy >= 0):\n",
        "  newListy.append(df['Price'][idy])\n",
        "  idy = idy - 1\n",
        "y = newListy\n",
        "df['Price'] = y"
      ],
      "execution_count": 4,
      "outputs": []
    },
    {
      "cell_type": "markdown",
      "metadata": {
        "id": "LM36_VNF2HOh"
      },
      "source": [
        "**Mostrar gráfica de los precios del Bitcoin**"
      ]
    },
    {
      "cell_type": "code",
      "metadata": {
        "colab": {
          "base_uri": "https://localhost:8080/",
          "height": 576
        },
        "id": "vvy7aZvj2I37",
        "outputId": "4adbc00a-076e-4626-dd0b-514084b450fd"
      },
      "source": [
        "# Fuente de apoyo: https://aprendeconalf.es/docencia/python/manual/matplotlib/\n",
        "fig, ax = plt.subplots(figsize = (15, 8))\n",
        "ax.plot(x, y)\n",
        "plt.ylabel(\"Precio del Bitcoin (USD)\\n\\n\", fontsize = 14)\n",
        "plt.xlabel(\"\\n\\nAño\", fontsize = 14)\n",
        "plt.title(\"Precios del Bitcoin\\n\", fontsize = 20)\n",
        "\n",
        "# Mostrar\n",
        "plt.show()"
      ],
      "execution_count": 5,
      "outputs": [
        {
          "output_type": "display_data",
          "data": {
            "image/png": "[encoded data removed]",
            "text/plain": [
              "<Figure size 1080x576 with 1 Axes>"
            ]
          },
          "metadata": {
            "needs_background": "light"
          }
        }
      ]
    },
    {
      "cell_type": "markdown",
      "metadata": {
        "id": "mb8gqCyh2f32"
      },
      "source": [
        "Como vemos, la serie no es estacionaria en media, ya que hay tendencia muy notoria.\n",
        "\n",
        "**Revisamos la estacionariedad en varianza con la prueba de Dickey-Fuller aumentada:**"
      ]
    },
    {
      "cell_type": "code",
      "metadata": {
        "colab": {
          "base_uri": "https://localhost:8080/"
        },
        "id": "fPPd4nabCq88",
        "outputId": "f9947284-6a33-4c07-c586-c0ce82ff3cff"
      },
      "source": [
        "# Fuente para saber cuál número es el p-valor: https://www.statsmodels.org/dev/generated/statsmodels.tsa.stattools.adfuller.html\n",
        "adfuller(df['Price'], autolag='AIC')[1]"
      ],
      "execution_count": 6,
      "outputs": [
        {
          "output_type": "execute_result",
          "data": {
            "text/plain": [
              "0.9646850748823006"
            ]
          },
          "metadata": {},
          "execution_count": 6
        }
      ]
    },
    {
      "cell_type": "markdown",
      "metadata": {
        "id": "2zUKD9xrE2SH"
      },
      "source": [
        "El número mostrado anteriormente es el p-valor.\n",
        "\n",
        "Suponiendo que utilizamos una confianza del 99%, podemos decir que la serie es NO estacionaria en varianza, ya que p-valor > 0.01\n",
        "\n",
        "Por lo que debemos corregir la serie."
      ]
    },
    {
      "cell_type": "markdown",
      "metadata": {
        "id": "AYwqQ3I7nTnh"
      },
      "source": [
        "**Corrección 1**"
      ]
    },
    {
      "cell_type": "code",
      "metadata": {
        "colab": {
          "base_uri": "https://localhost:8080/",
          "height": 483
        },
        "id": "whm3oNg3iwoS",
        "outputId": "645a4eaa-8a09-4ce0-a7de-0453f218a6bd"
      },
      "source": [
        "price = np.diff(np.log(df['Price']))\n",
        "\n",
        "fig, ax = plt.subplots(figsize = (15, 8))\n",
        "ax.plot(x[1:4056], price)\n",
        "\n",
        "plt.show()"
      ],
      "execution_count": 7,
      "outputs": [
        {
          "output_type": "display_data",
          "data": {
            "image/png": "[encoded data removed]",
            "text/plain": [
              "<Figure size 1080x576 with 1 Axes>"
            ]
          },
          "metadata": {
            "needs_background": "light"
          }
        }
      ]
    },
    {
      "cell_type": "markdown",
      "metadata": {
        "id": "kOPQ4b_bnfME"
      },
      "source": [
        "Revisar estacionariedad en varianza"
      ]
    },
    {
      "cell_type": "code",
      "metadata": {
        "colab": {
          "base_uri": "https://localhost:8080/"
        },
        "id": "ZPAKW-gsrIdZ",
        "outputId": "7121b649-14a3-48ee-d946-d52070d3d4ac"
      },
      "source": [
        "price = pd.DataFrame(np.diff(np.log(df['Price'])), columns = {\"Cor1\"})\n",
        "price.replace([np.inf, -np.inf], np.nan, inplace = True)\n",
        "price.dropna(axis = 0, how = 'any', inplace = True)\n",
        "adfuller(price['Cor1'], autolag = 'AIC')[1]"
      ],
      "execution_count": 8,
      "outputs": [
        {
          "output_type": "execute_result",
          "data": {
            "text/plain": [
              "0.0"
            ]
          },
          "metadata": {},
          "execution_count": 8
        }
      ]
    },
    {
      "cell_type": "markdown",
      "metadata": {
        "id": "Ku7fxsQktxAb"
      },
      "source": [
        "Ya es estacionaria en varianza, y la gráfica nos dice que también es estacionaria en media (porque no tiene tendencia), por lo que la serie ya es estacionaria.\n",
        "\n",
        "**Modelado**\n",
        "\n",
        "- Cálculo del parámetro p"
      ]
    },
    {
      "cell_type": "code",
      "metadata": {
        "colab": {
          "base_uri": "https://localhost:8080/"
        },
        "id": "W9DyEuVn70Pi",
        "outputId": "f4a8d6f4-0495-4efe-b8a6-a40c507fe5ce"
      },
      "source": [
        "aic = np.inf\n",
        "a = 0\n",
        "for i in range(0,10):\n",
        "  modelo = ARIMA(price, order=(i,0,0))\n",
        "  modelo_llenado = modelo.fit()\n",
        "  n = modelo_llenado.aic\n",
        "  if n < aic:\n",
        "    aic = n\n",
        "    a = i\n",
        "\n",
        "print(\"Parámetro p =\", a, \"\\nParámetro q = 0\\nAIC del modelo =\", aic)"
      ],
      "execution_count": 9,
      "outputs": [
        {
          "output_type": "stream",
          "name": "stdout",
          "text": [
            "Parámetro p = 6 \n",
            "Parámetro q = 0\n",
            "AIC del modelo = -10639.253864013383\n"
          ]
        }
      ]
    },
    {
      "cell_type": "markdown",
      "metadata": {
        "id": "jqXkeOxx5FcY"
      },
      "source": [
        "- Cálculo del parámetro q"
      ]
    },
    {
      "cell_type": "code",
      "metadata": {
        "colab": {
          "base_uri": "https://localhost:8080/"
        },
        "id": "v7UNW_qO0Pxf",
        "outputId": "51b7ddba-ce3c-4f02-9704-7ba86784e6dd"
      },
      "source": [
        "aic = np.inf\n",
        "a = 0\n",
        "for i in range(1,6):\n",
        "  modelo = ARIMA(price, order=(6,0,i))\n",
        "  modelo_llenado = modelo.fit()\n",
        "  n = modelo_llenado.aic\n",
        "  if n < aic:\n",
        "    aic = n\n",
        "    a = i\n",
        "    \n",
        "print(\"Parámetro p = 6\\nParámetro q =\", a, \"\\nAIC del modelo =\", aic)"
      ],
      "execution_count": 10,
      "outputs": [
        {
          "output_type": "stream",
          "name": "stdout",
          "text": [
            "Parámetro p = 6\n",
            "Parámetro q = 5 \n",
            "AIC del modelo = -10649.427077501725\n"
          ]
        }
      ]
    },
    {
      "cell_type": "markdown",
      "metadata": {
        "id": "yhi5vp305ROk"
      },
      "source": [
        "El mejor modelo para la serie corregida es un modelo **ARMA(6,5)**.\n",
        "\n",
        "Pero como se tuvo que hacer una diferenciación para hecer estacionaria a la serie, entonces el modelo para la serie original es un **ARIMA(6,1,5)**.\n",
        "\n",
        "**Procedemos a mostrar las predicciones**\n",
        "- Generamos el modelo \"ARIMA(6,1,5)\" para los datos originales"
      ]
    },
    {
      "cell_type": "code",
      "metadata": {
        "colab": {
          "base_uri": "https://localhost:8080/"
        },
        "id": "lY1wJnvj_Und",
        "outputId": "a7f90af4-accf-479d-c771-72caaf770495"
      },
      "source": [
        "modelo_original = ARIMA(df['Price'], order = (6, 1, 5))\n",
        "mod_or_llenado = modelo_original.fit()"
      ],
      "execution_count": 11,
      "outputs": [
        {
          "output_type": "stream",
          "name": "stderr",
          "text": [
            "/usr/local/lib/python3.7/dist-packages/statsmodels/base/model.py:492: HessianInversionWarning: Inverting hessian failed, no bse or cov_params available\n",
            "  'available', HessianInversionWarning)\n"
          ]
        }
      ]
    },
    {
      "cell_type": "markdown",
      "metadata": {
        "id": "k5PrJoe6WeLJ"
      },
      "source": [
        "- Cálculo de predicciones (24/Ago/2021 - 31/Dic/2023)"
      ]
    },
    {
      "cell_type": "code",
      "metadata": {
        "colab": {
          "base_uri": "https://localhost:8080/",
          "height": 419
        },
        "id": "WstoR4vOCz8S",
        "outputId": "d3b68f16-2b19-40e7-9979-78fc2131a91b"
      },
      "source": [
        "#Fuentes de apoyo: https://www.it-swarm-es.com/es/python/creando-un-rango-de-fechas-en-python/957692062/  \n",
        "\n",
        "P = pd.DataFrame(mod_or_llenado.forecast(859, alpha = 0.05)[0].tolist(), columns = {'Predicciones'})\n",
        "D = pd.DataFrame(mod_or_llenado.forecast(859, alpha = 0.05)[2].tolist(), columns = {'Máximo', 'Mínimo'})\n",
        "Tabla_predicciones = pd.DataFrame(list(rrule.rrule(rrule.DAILY,count=859, dtstart = datetime.strptime(\"25-08-2021\", \"%d-%m-%Y\"))), columns = {'Fecha'})\n",
        "Tabla_predicciones['Predicciones'] = P['Predicciones']\n",
        "Tabla_predicciones['Mínimo (95% de confianza)'] = D['Mínimo']\n",
        "Tabla_predicciones['Máximo (95% de confianza)'] = D['Máximo']\n",
        "Tabla_predicciones"
      ],
      "execution_count": 12,
      "outputs": [
        {
          "output_type": "execute_result",
          "data": {
            "text/html": [
              "<div>\n",
              "<style scoped>\n",
              "    .dataframe tbody tr th:only-of-type {\n",
              "        vertical-align: middle;\n",
              "    }\n",
              "\n",
              "    .dataframe tbody tr th {\n",
              "        vertical-align: top;\n",
              "    }\n",
              "\n",
              "    .dataframe thead th {\n",
              "        text-align: right;\n",
              "    }\n",
              "</style>\n",
              "<table border=\"1\" class=\"dataframe\">\n",
              "  <thead>\n",
              "    <tr style=\"text-align: right;\">\n",
              "      <th></th>\n",
              "      <th>Fecha</th>\n",
              "      <th>Predicciones</th>\n",
              "      <th>Mínimo (95% de confianza)</th>\n",
              "      <th>Máximo (95% de confianza)</th>\n",
              "    </tr>\n",
              "  </thead>\n",
              "  <tbody>\n",
              "    <tr>\n",
              "      <th>0</th>\n",
              "      <td>2021-08-25</td>\n",
              "      <td>48740.883407</td>\n",
              "      <td>47744.179997</td>\n",
              "      <td>49737.586816</td>\n",
              "    </tr>\n",
              "    <tr>\n",
              "      <th>1</th>\n",
              "      <td>2021-08-26</td>\n",
              "      <td>48972.225925</td>\n",
              "      <td>47606.659559</td>\n",
              "      <td>50337.792292</td>\n",
              "    </tr>\n",
              "    <tr>\n",
              "      <th>2</th>\n",
              "      <td>2021-08-27</td>\n",
              "      <td>48811.112276</td>\n",
              "      <td>47127.186151</td>\n",
              "      <td>50495.038400</td>\n",
              "    </tr>\n",
              "    <tr>\n",
              "      <th>3</th>\n",
              "      <td>2021-08-28</td>\n",
              "      <td>48492.468974</td>\n",
              "      <td>46521.386475</td>\n",
              "      <td>50463.551473</td>\n",
              "    </tr>\n",
              "    <tr>\n",
              "      <th>4</th>\n",
              "      <td>2021-08-29</td>\n",
              "      <td>48624.852124</td>\n",
              "      <td>46404.073571</td>\n",
              "      <td>50845.630677</td>\n",
              "    </tr>\n",
              "    <tr>\n",
              "      <th>...</th>\n",
              "      <td>...</td>\n",
              "      <td>...</td>\n",
              "      <td>...</td>\n",
              "      <td>...</td>\n",
              "    </tr>\n",
              "    <tr>\n",
              "      <th>854</th>\n",
              "      <td>2023-12-27</td>\n",
              "      <td>59090.656319</td>\n",
              "      <td>29581.097330</td>\n",
              "      <td>88600.215308</td>\n",
              "    </tr>\n",
              "    <tr>\n",
              "      <th>855</th>\n",
              "      <td>2023-12-28</td>\n",
              "      <td>59102.796920</td>\n",
              "      <td>29575.984276</td>\n",
              "      <td>88629.609565</td>\n",
              "    </tr>\n",
              "    <tr>\n",
              "      <th>856</th>\n",
              "      <td>2023-12-29</td>\n",
              "      <td>59114.876140</td>\n",
              "      <td>29570.819722</td>\n",
              "      <td>88658.932558</td>\n",
              "    </tr>\n",
              "    <tr>\n",
              "      <th>857</th>\n",
              "      <td>2023-12-30</td>\n",
              "      <td>59127.010496</td>\n",
              "      <td>29565.720525</td>\n",
              "      <td>88688.300466</td>\n",
              "    </tr>\n",
              "    <tr>\n",
              "      <th>858</th>\n",
              "      <td>2023-12-31</td>\n",
              "      <td>59139.084019</td>\n",
              "      <td>29560.570368</td>\n",
              "      <td>88717.597670</td>\n",
              "    </tr>\n",
              "  </tbody>\n",
              "</table>\n",
              "<p>859 rows × 4 columns</p>\n",
              "</div>"
            ],
            "text/plain": [
              "         Fecha  ...  Máximo (95% de confianza)\n",
              "0   2021-08-25  ...               49737.586816\n",
              "1   2021-08-26  ...               50337.792292\n",
              "2   2021-08-27  ...               50495.038400\n",
              "3   2021-08-28  ...               50463.551473\n",
              "4   2021-08-29  ...               50845.630677\n",
              "..         ...  ...                        ...\n",
              "854 2023-12-27  ...               88600.215308\n",
              "855 2023-12-28  ...               88629.609565\n",
              "856 2023-12-29  ...               88658.932558\n",
              "857 2023-12-30  ...               88688.300466\n",
              "858 2023-12-31  ...               88717.597670\n",
              "\n",
              "[859 rows x 4 columns]"
            ]
          },
          "metadata": {},
          "execution_count": 12
        }
      ]
    },
    {
      "cell_type": "markdown",
      "metadata": {
        "id": "lHDHB0q6i5uN"
      },
      "source": [
        "Es importante mencionar que las columnas de mínimo y máximo no se refieren a que es el valor mínimo y máximo que el Bitcoin va a tomar cada día. Es un intervalo de confianza en el que se encuentra el valor mostrado en \"Predicciones\"."
      ]
    },
    {
      "cell_type": "markdown",
      "metadata": {
        "id": "16k8c804F51G"
      },
      "source": [
        "- Gráfica de las predicciones"
      ]
    },
    {
      "cell_type": "code",
      "metadata": {
        "colab": {
          "base_uri": "https://localhost:8080/",
          "height": 354
        },
        "id": "fSF9XukoGoTM",
        "outputId": "c5fbaec4-caeb-42b2-b904-5341391e1e02"
      },
      "source": [
        "#Fuente de apoyo: https://docs.w3cub.com/statsmodels/generated/statsmodels.tsa.arima_model.arimaresults.plot_predict\n",
        "\n",
        "mod_or_llenado.plot_predict(1, 4915, alpha = 0.05)\n",
        "plt.xticks([0, 533, 1263, 1993, 2724, 3454, 4186, 4915], [2010, 2012, 2014, 2016, 2018, 2020, 2022, 2024])\n",
        "plt.title(\"\\nPredicción precio del Bitcoin\\n(25 de agosto del 2021 al 31 de diciembre del 2023)\")\n",
        "plt.xlabel(\"\\nAño\")\n",
        "plt.ylabel(\"Precio del Bitcoin (USD)\")\n",
        "plt.legend([\"Predicción\", \"Serie oroginal\\nPrecio del Bitcoin\", \"Intervalo de confianza\\n(95%)\"], loc = \"upper left\")"
      ],
      "execution_count": 19,
      "outputs": [
        {
          "output_type": "execute_result",
          "data": {
            "text/plain": [
              "<matplotlib.legend.Legend at 0x7fcd3b2146d0>"
            ]
          },
          "metadata": {},
          "execution_count": 19
        },
        {
          "output_type": "display_data",
          "data": {
            "image/png": "[encoded data removed]",
            "text/plain": [
              "<Figure size 432x288 with 1 Axes>"
            ]
          },
          "metadata": {
            "needs_background": "light"
          }
        }
      ]
    },
    {
      "cell_type": "markdown",
      "metadata": {
        "id": "EkvKXmxUa6H4"
      },
      "source": [
        "Objetivos:\n",
        "> **A)** Principal: Predecir si es viable invertir en el Bitcoin a corto y mediano plazo.\n",
        "\n",
        "> **B)** Secundario: Predecir si el valor del bitcoin seguirá a la alza.\n",
        "\n",
        "Como vemos en la gráfica y la tabla de predicciones, es viable invertir en Bitcoin a corto, mediano e incluso a largo plazo, ya que el valor del Bitcoin seguirá a la alza, lo que generaría ganancias."
      ]
    },
    {
      "cell_type": "markdown",
      "metadata": {
        "id": "s3fcMgBMcLT_"
      },
      "source": [
        "# **Métricas de evaluación**"
      ]
    },
    {
      "cell_type": "markdown",
      "metadata": {
        "id": "7FVxF0sHrcVJ"
      },
      "source": [
        "**AIC**"
      ]
    },
    {
      "cell_type": "code",
      "metadata": {
        "colab": {
          "base_uri": "https://localhost:8080/"
        },
        "id": "8SXGLaM5rfrI",
        "outputId": "eecdfa53-64ae-4d0b-de7c-50e0d6e57c50"
      },
      "source": [
        "print(\"El mejor modelo relativo para las correciones es ARMA(6,5)\\ny tiene un aic =\", modelo_llenado.aic,\n",
        "      \"\\n\\nEl mejor modelo relativo para los precios del Bitcoin es ARIMA(6,1,5)\\ny su AIC es: \", mod_or_llenado.aic)"
      ],
      "execution_count": 20,
      "outputs": [
        {
          "output_type": "stream",
          "name": "stdout",
          "text": [
            "El mejor modelo relativo para las correciones es ARMA(6,5)\n",
            "y tiene un aic = -10649.427077501725 \n",
            "\n",
            "El mejor modelo relativo para los precios del Bitcoin es ARIMA(6,1,5)\n",
            "y su AIC es:  62081.99196722686\n"
          ]
        }
      ]
    },
    {
      "cell_type": "markdown",
      "metadata": {
        "id": "AMEZDPlOr2_W"
      },
      "source": [
        "Este es el mejor modelo relativo ya que es el que tiene el menor AIC en comparación a otros modelos revisados con diferentes parámetros p,q."
      ]
    },
    {
      "cell_type": "markdown",
      "metadata": {
        "id": "H4iKW_f1cPT8"
      },
      "source": [
        "**Revisar qué tan bueno es el modelo de manera gráfica**\n",
        "- Generar el modelo"
      ]
    },
    {
      "cell_type": "code",
      "metadata": {
        "colab": {
          "base_uri": "https://localhost:8080/"
        },
        "id": "EretwV0aeEi7",
        "outputId": "d54cac5f-2cf8-417a-b641-dd749d25cde5"
      },
      "source": [
        "modelo_original = ARIMA(df['Price'], order = (6, 1, 5))\n",
        "mod_or_llenado = modelo_original.fit()"
      ],
      "execution_count": 21,
      "outputs": [
        {
          "output_type": "stream",
          "name": "stderr",
          "text": [
            "/usr/local/lib/python3.7/dist-packages/statsmodels/base/model.py:492: HessianInversionWarning: Inverting hessian failed, no bse or cov_params available\n",
            "  'available', HessianInversionWarning)\n"
          ]
        }
      ]
    },
    {
      "cell_type": "markdown",
      "metadata": {
        "id": "bCBD1b4XeMZe"
      },
      "source": [
        "- Mostrar los valores estimados comparándolos con los valores reales"
      ]
    },
    {
      "cell_type": "code",
      "metadata": {
        "colab": {
          "base_uri": "https://localhost:8080/",
          "height": 328
        },
        "id": "CUz5pRwNdN07",
        "outputId": "54c908e7-237b-42a4-bcd2-941b3eedaef9"
      },
      "source": [
        "mod_or_llenado.plot_predict(4000, 4055, alpha = 0.15)\n",
        "#plt.xticks([4000, 4005, 4010, 4015, 4020, 4025, 4030, 4035, 4040, 4045, 4050, 4055],\n",
        "           #[\"2021-06-30\", \"2021-07-05\", \"2021-07-10\", \"2021-07-15\", \"2021-07-20\", \"2021-07-25\", \"2021-07-30\",\n",
        "            #\"2021-08-04\", \"2021-08-09\", \"2021-08-14\", \"2021-08-19\", \"2021-08-24\"], rotation = 90)\n",
        "plt.title(\"\\nPrecio del Bitcoin\\n(24 de agosto del 2021 al 31 de diciembre del 2024)\")\n",
        "plt.ylabel(\"Precio del Bitcoin (USD)\")\n",
        "plt.legend([\"Estimación\", \"Datos originales\"], loc = \"upper left\")"
      ],
      "execution_count": 22,
      "outputs": [
        {
          "output_type": "execute_result",
          "data": {
            "text/plain": [
              "<matplotlib.legend.Legend at 0x7fcd3b078610>"
            ]
          },
          "metadata": {},
          "execution_count": 22
        },
        {
          "output_type": "display_data",
          "data": {
            "image/png": "[encoded data removed]",
            "text/plain": [
              "<Figure size 432x288 with 1 Axes>"
            ]
          },
          "metadata": {
            "needs_background": "light"
          }
        }
      ]
    },
    {
      "cell_type": "markdown",
      "metadata": {
        "id": "VvsHgmR1eax0"
      },
      "source": [
        "Se tomaron solo los datos del 30/Jun/2021 al 24/Ago/2021 para que se vean claramente ambas líneas en la gráfica, y como vemos, las estimaciones se acercan mucho a los datos originales, por lo que podemos decir que **ARIMA(6,1,5)** es es un buen modelo para los precios del Bitcoin."
      ]
    },
    {
      "cell_type": "markdown",
      "metadata": {
        "id": "auD5vwHrSxq8"
      },
      "source": [
        "[Fuente de las métricas de evaluación siguientes](https://polmartisanahuja.com/metricas-de-evaluacion-de-rendimiento-para-predicciones-de-series-temporales/)"
      ]
    },
    {
      "cell_type": "markdown",
      "metadata": {
        "id": "nOxy0JpGI4Rz"
      },
      "source": [
        "**Error absoluto medio**"
      ]
    },
    {
      "cell_type": "code",
      "metadata": {
        "colab": {
          "base_uri": "https://localhost:8080/"
        },
        "id": "bU-4ZJNwME5a",
        "outputId": "87598026-fd35-410f-d994-5fb52b3e285b"
      },
      "source": [
        "np.mean(np.abs((mod_or_llenado.fittedvalues + df['Price']) - df['Price']))"
      ],
      "execution_count": 23,
      "outputs": [
        {
          "output_type": "execute_result",
          "data": {
            "text/plain": [
              "59.31673064046315"
            ]
          },
          "metadata": {},
          "execution_count": 23
        }
      ]
    },
    {
      "cell_type": "markdown",
      "metadata": {
        "id": "wrR5vYu0TTSe"
      },
      "source": [
        "Como vemos, el error absoluto medio es bajo si tomamos en cuenta la naturaleza de los datos, ya que los precios son en miles de dólares.\n",
        "\n",
        "Parece ser que el modelo es bueno. Tiene buen ajuste."
      ]
    },
    {
      "cell_type": "markdown",
      "metadata": {
        "id": "JPrHoURCToHc"
      },
      "source": [
        "**Raíz del error cuadrático medio (RMSE)**"
      ]
    },
    {
      "cell_type": "code",
      "metadata": {
        "colab": {
          "base_uri": "https://localhost:8080/"
        },
        "id": "jl_U9I3qUPR0",
        "outputId": "2f65c6ec-ade6-4d32-911d-f7b182c15cf0"
      },
      "source": [
        "np.sqrt(np.mean(((mod_or_llenado.fittedvalues + df['Price']) - df['Price'])**2))"
      ],
      "execution_count": 24,
      "outputs": [
        {
          "output_type": "execute_result",
          "data": {
            "text/plain": [
              "124.33325549291548"
            ]
          },
          "metadata": {},
          "execution_count": 24
        }
      ]
    },
    {
      "cell_type": "markdown",
      "metadata": {
        "id": "dJVFbGUbWPsz"
      },
      "source": [
        "Este error también es bajo, lo que se traduce como un buen ajuste del modelo."
      ]
    },
    {
      "cell_type": "markdown",
      "metadata": {
        "id": "O88SKwLFWcPL"
      },
      "source": [
        "**Error porcentual absoluto medio (MAPE)**"
      ]
    },
    {
      "cell_type": "code",
      "metadata": {
        "colab": {
          "base_uri": "https://localhost:8080/"
        },
        "id": "HDH9vBLNW0A8",
        "outputId": "e30b2b16-4e1c-48cc-faef-5d7299dde332"
      },
      "source": [
        "print(round(np.mean(np.abs((mod_or_llenado.fittedvalues + df['Price']) - df['Price']) / (mod_or_llenado.fittedvalues + df['Price'])) * 100, 2),\"%\", sep = \"\")"
      ],
      "execution_count": 25,
      "outputs": [
        {
          "output_type": "stream",
          "name": "stdout",
          "text": [
            "18.88%\n"
          ]
        }
      ]
    },
    {
      "cell_type": "markdown",
      "metadata": {
        "id": "E7n1Ji_CXPOI"
      },
      "source": [
        "Hay poco error porcentual, es decir, los datos estimados se acercan mucho a los datos reales."
      ]
    },
    {
      "cell_type": "markdown",
      "metadata": {
        "id": "ipPWZRZrYKVG"
      },
      "source": [
        "# **Conclusiones**"
      ]
    },
    {
      "cell_type": "markdown",
      "metadata": {
        "id": "1w3VuDrkZUac"
      },
      "source": [
        "- Primero que nada, los resultados de la técnica resuelven los objetivos planteados, lo cuales son:\n",
        "\n",
        " - **Principal:** Predecir si es viable invertir en el Bitcoin a corto y mediano plazo.\n",
        "\n",
        " - **Secundario:** Predecir si el valor del bitcoin seguirá a la alza.\n",
        "\n",
        " Como vimos antes, el precio del Bitcoin seguirá subiendo, es decir, seguirá a la alza, por lo que es viable invertir en Bitcoin.\n",
        "\n",
        "- Las métricas de evaluación hacen el trabajo comparable, ya que gracias a estas se puede ver qué tanto se ajusta el modelo.\n",
        "\n",
        " Viendo los errores y la gráfica comparativa de estamaciones y datos reales, podemos decir que el modelo se ajusta bien.\n",
        "\n",
        "- Por último, el hecho de que los errores no sean 0, significa que el modelo no es perfecto. Se ajusta bien, pero no es mejor absoluto, por lo que este puede mejorarse si se comparan más modelo con diferentes parámetros p,q.\n",
        "\n",
        " - A continuación se muestra una tabla con la predicción de los precios del Bitcoin de los últimos 5 días (8/Oct/2021 - 13/Oct/2021).\n",
        "\n",
        " - La imagen posterior a la tabla muestra el precio real del Bitcoin de los mismos días. [Precio Bitcoin](https://mx.investing.com/crypto/bitcoin/historical-data)"
      ]
    },
    {
      "cell_type": "code",
      "metadata": {
        "colab": {
          "base_uri": "https://localhost:8080/",
          "height": 235
        },
        "id": "cwFMBtgWatjS",
        "outputId": "9e6616b8-506a-4adb-e22f-ab688600613e"
      },
      "source": [
        "Tabla_predicciones[44:50]"
      ],
      "execution_count": 26,
      "outputs": [
        {
          "output_type": "execute_result",
          "data": {
            "text/html": [
              "<div>\n",
              "<style scoped>\n",
              "    .dataframe tbody tr th:only-of-type {\n",
              "        vertical-align: middle;\n",
              "    }\n",
              "\n",
              "    .dataframe tbody tr th {\n",
              "        vertical-align: top;\n",
              "    }\n",
              "\n",
              "    .dataframe thead th {\n",
              "        text-align: right;\n",
              "    }\n",
              "</style>\n",
              "<table border=\"1\" class=\"dataframe\">\n",
              "  <thead>\n",
              "    <tr style=\"text-align: right;\">\n",
              "      <th></th>\n",
              "      <th>Fecha</th>\n",
              "      <th>Predicciones</th>\n",
              "      <th>Mínimo (95% de confianza)</th>\n",
              "      <th>Máximo (95% de confianza)</th>\n",
              "    </tr>\n",
              "  </thead>\n",
              "  <tbody>\n",
              "    <tr>\n",
              "      <th>44</th>\n",
              "      <td>2021-10-08</td>\n",
              "      <td>49244.900588</td>\n",
              "      <td>42483.827550</td>\n",
              "      <td>56005.973627</td>\n",
              "    </tr>\n",
              "    <tr>\n",
              "      <th>45</th>\n",
              "      <td>2021-10-09</td>\n",
              "      <td>49149.230775</td>\n",
              "      <td>42312.118299</td>\n",
              "      <td>55986.343251</td>\n",
              "    </tr>\n",
              "    <tr>\n",
              "      <th>46</th>\n",
              "      <td>2021-10-10</td>\n",
              "      <td>49303.440008</td>\n",
              "      <td>42392.107559</td>\n",
              "      <td>56214.772456</td>\n",
              "    </tr>\n",
              "    <tr>\n",
              "      <th>47</th>\n",
              "      <td>2021-10-11</td>\n",
              "      <td>49428.653736</td>\n",
              "      <td>42441.933570</td>\n",
              "      <td>56415.373902</td>\n",
              "    </tr>\n",
              "    <tr>\n",
              "      <th>48</th>\n",
              "      <td>2021-10-12</td>\n",
              "      <td>49298.597838</td>\n",
              "      <td>42236.760746</td>\n",
              "      <td>56360.434931</td>\n",
              "    </tr>\n",
              "    <tr>\n",
              "      <th>49</th>\n",
              "      <td>2021-10-13</td>\n",
              "      <td>49354.011326</td>\n",
              "      <td>42223.409518</td>\n",
              "      <td>56484.613135</td>\n",
              "    </tr>\n",
              "  </tbody>\n",
              "</table>\n",
              "</div>"
            ],
            "text/plain": [
              "        Fecha  ...  Máximo (95% de confianza)\n",
              "44 2021-10-08  ...               56005.973627\n",
              "45 2021-10-09  ...               55986.343251\n",
              "46 2021-10-10  ...               56214.772456\n",
              "47 2021-10-11  ...               56415.373902\n",
              "48 2021-10-12  ...               56360.434931\n",
              "49 2021-10-13  ...               56484.613135\n",
              "\n",
              "[6 rows x 4 columns]"
            ]
          },
          "metadata": {},
          "execution_count": 26
        }
      ]
    },
    {
      "cell_type": "markdown",
      "metadata": {
        "id": "xRv_uiLojcsx"
      },
      "source": [
        "Como de dijo antes, es importante dejar claro que las columnas de mínimo y máximo de la tabla de predicciones no se refieren a que es el valor mínimo y máximo que el Bitcoin va a tomar cada día. Es un intervalo de confianza en el que se encuentra el valor mostrado en \"Predicciones\"."
      ]
    },
    {
      "cell_type": "markdown",
      "metadata": {
        "id": "lNWy46enfasT"
      },
      "source": [
        "![Bitcoin.PNG](data:image/png;base64,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)"
      ]
    },
    {
      "cell_type": "markdown",
      "metadata": {
        "id": "RknN4ST9j9Xu"
      },
      "source": [
        "Para ver mejor los datos, los graficamos y tenemos:"
      ]
    },
    {
      "cell_type": "code",
      "metadata": {
        "colab": {
          "base_uri": "https://localhost:8080/",
          "height": 435
        },
        "id": "o8I06PTskIKt",
        "outputId": "0f6f039d-8026-4bff-e97e-154746e267b7"
      },
      "source": [
        "# Fuente de apoyo: https://aprendeconalf.es/docencia/python/manual/matplotlib/\n",
        "fig, ax = plt.subplots(figsize = (10, 5))\n",
        "prm = Tabla_predicciones['Máximo (95% de confianza)'][44:50]\n",
        "pr = Tabla_predicciones['Predicciones'][44:50]\n",
        "fe = Tabla_predicciones['Fecha'][44:50]\n",
        "prr = [53914.7, 54942.5, 54687.7, 57477.3, 56015.9, 56224.5]\n",
        "ax.plot(fe, prm, color = \"red\", label = \"Predicción máximo\")\n",
        "ax.plot(fe, prr, color = \"blue\", label = \"Precio real\")\n",
        "ax.plot(fe, pr, color = \"green\", label = \"Precio predicción\")\n",
        "plt.legend()\n",
        "plt.ylabel(\"Precio del Bitcoin (USD)\\n\\n\", fontsize = 14)\n",
        "plt.xlabel(\"\\n\\nFecha\", fontsize = 14)\n",
        "plt.title(\"Precios del Bitcoin\\n(8/Oct/2021 - 13/Oct/2021)\\n\", fontsize = 20)\n",
        "\n",
        "# Mostrar\n",
        "plt.show()"
      ],
      "execution_count": 27,
      "outputs": [
        {
          "output_type": "display_data",
          "data": {
            "image/png": "[encoded data removed]",
            "text/plain": [
              "<Figure size 720x360 with 1 Axes>"
            ]
          },
          "metadata": {
            "needs_background": "light"
          }
        }
      ]
    },
    {
      "cell_type": "markdown",
      "metadata": {
        "id": "h0SYLv_TmpKM"
      },
      "source": [
        "Entonces, al menos para los últimos 5 días, parece ser que el modelo está bien ajustado, ya que el precio real se movió como lo predijo el modelo estimado.\n",
        "\n",
        "Pero como vemos, se puede mejorar, ya que no todos los datos están en el rango predicho."
      ]
    }
  ]
}