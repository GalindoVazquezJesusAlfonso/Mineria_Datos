{
  "nbformat": 4,
  "nbformat_minor": 0,
  "metadata": {
    "colab": {
      "name": "AvancePIA_II_002_10 (Corregido)",
      "provenance": [],
      "collapsed_sections": []
    },
    "kernelspec": {
      "display_name": "Python 3",
      "name": "python3"
    }
  },
  "cells": [
    {
      "cell_type": "markdown",
      "metadata": {
        "id": "TimUJ-XcUfjj"
      },
      "source": [
        "## **Avance II PIA**"
      ]
    },
    {
      "cell_type": "markdown",
      "metadata": {
        "id": "8SfV10T0VYSr"
      },
      "source": [
        "# Equipo: 10\n",
        "Grupo: 002 Miércoles\n",
        "\n",
        "### Integrantes\n",
        "- 1864878 Cerda Serrato Alan René\n",
        "- 1867341 Cruz Lerma Jorge Antonio\n",
        "- 1941475 Galindo Vázquez Jesús Alfonso\n",
        "- 1630606 Valencia González Jesús Eduardo"
      ]
    },
    {
      "cell_type": "markdown",
      "metadata": {
        "id": "mYc_5ghjUl1o"
      },
      "source": [
        "# 1.- Base de Datos: Datos históricos del Bitcoin"
      ]
    },
    {
      "cell_type": "markdown",
      "metadata": {
        "id": "AGZ4SFNPXDVl"
      },
      "source": [
        "> A) Historical Bitcoin Data\n",
        "\n",
        "> B) https://www.kaggle.com/umeshkumar017/historical-bitcoin-data?select=Bitcoin+Historical+Data+-+In+Rupees.csv\n",
        "\n",
        "\n",
        "\n",
        "\n",
        "\n",
        "\n"
      ]
    },
    {
      "cell_type": "markdown",
      "metadata": {
        "id": "iA9YmCM_XnYK"
      },
      "source": [
        "# 2.- Introducción General"
      ]
    },
    {
      "cell_type": "markdown",
      "metadata": {
        "id": "1FyZoc9GXzZA"
      },
      "source": [
        "\n",
        "\n",
        "> A) ¿Qué es el Bitcoin? \n",
        "\n",
        ">Bitcoin es un protocolo, proyecto de código abierto y red entre iguales que se utiliza como criptomoneda, sistema de pago y mercancía.\n",
        ">Fue concebida en 2008​ por una entidad conocida bajo el seudónimo de Satoshi Nakamoto, cuya identidad concreta se desconoce. \n",
        ">En la actualidad, una cantidad considerable de empresas y pequeños negocios aceptan bitcoins como medio de pago​ para servicios de todo tipo. Su alcance internacional, y el hecho de que los usuarios pueden comerciar de forma pseudoanónima, ha permitido que se abra paso en sectores cada vez más regulados, como apuestas en línea y partidas de póker.\n",
        "\n",
        ">El uso de Bitcoin y los servicios relacionados con él están sujetos a la legislación de cada país, provincia, municipio u otras entidades administrativas, pudiendo ser legal o ilegal dependiendo de si se han realizado decretos al respecto, o como consecuencia de la decisión expresa de reconocer o tratarlo como divisa, valor, mercancía, etc, por alguna entidad reguladora con jurisdicción en alguna de esas materias. \n",
        "\n"
      ]
    },
    {
      "cell_type": "markdown",
      "metadata": {
        "id": "D_tOQBbIZczl"
      },
      "source": [
        "# 3.- Descripción de los datos"
      ]
    },
    {
      "cell_type": "markdown",
      "metadata": {
        "id": "F3uucy5BZrw3"
      },
      "source": [
        "> A) Los datos son descritos con una tabla que avanza mediante el tiempo, registrando la variabilidad de valor en la moneda. No presenta gráficos ni recursos visuales.\n",
        "\n",
        "> B) Se tienen 7 columnas, las cuales son:\n",
        "1.   **Date** <- Fecha del dia a registrar. Tipo de dato: str \n",
        "2.   **Price** <- Precio de la moneda. Tipo de dato: float\n",
        "3.   **Open** <- Valor de apertura. Tipo de dato: float\n",
        "4.   **High** <- El valor más alto. Tipo de dato: float\n",
        "5.   **Low** <- El valor más bajo. Tipo de dato: float\n",
        "6.   **Vol.** <- Volumen de Bitcoins comerciados. Tipo de dato: str\n",
        "7.   **Change %** <- Porcentaje de cambio. Tipo de dato: str\n",
        " Tamaño de la base: 7 columnas y 4057 filas."
      ]
    },
    {
      "cell_type": "markdown",
      "metadata": {
        "id": "9D7l40nBcr9N"
      },
      "source": [
        "# 4.- Justificación del uso de datos"
      ]
    },
    {
      "cell_type": "markdown",
      "metadata": {
        "id": "N86fbQYkdMtf"
      },
      "source": [
        "> A) Tenemos una gran curiosidad por el Bitcoin especialmente porque el mundo de las criptomonedas es algo que está en tendencias actualmente, sobre todo por su altísimo valor ( a fecha de hoy, 30/08/2021, 1 bitcoin equivale a 975,756.02 pesos mexicanos. \n",
        "> Pueden tomar aún mas relevancia en el futuro, y para nuestra carrera (Actuaría), es de suma importancia estar enterados de las nuevas tendencias del mundo financiero.\n",
        "\n",
        "> B) Alguno de los beneficios sobre estar investigando acerca de este tema, es que podriamos estar mejor preparados para una posible inversión u otro movimiento con la moneda.\n",
        "Creemos que sin duda es un tema muy relevante, ya que las criptomonedas pueden ser el futuro de la economía."
      ]
    },
    {
      "cell_type": "markdown",
      "metadata": {
        "id": "yxaHspRfgYzr"
      },
      "source": [
        "# 5.- Objetivo Principal y secundario\n",
        "\n"
      ]
    },
    {
      "cell_type": "markdown",
      "metadata": {
        "id": "gO8nhnpYhC32"
      },
      "source": [
        "> **A)** El objetivo **principal** es predecir si es viable invertir en el Bitcoin a corto y mediano plazo mediante sus cambios de valor.\n",
        "\n",
        "> **B)** El objetivo **secundario** es predecir si el valor del bitcoin seguirá a la alza."
      ]
    },
    {
      "cell_type": "markdown",
      "metadata": {
        "id": "pqzaFWiCnpp3"
      },
      "source": [
        "# 6.- Preguntas de Interés"
      ]
    },
    {
      "cell_type": "markdown",
      "metadata": {
        "id": "Rt0NNdXtn014"
      },
      "source": [
        "> 1.- ¿Cuál es precio más alto que ha alcanzado el Bitcoin?\n",
        "\n",
        "> 2.- ¿En que año empezó el auge del valor del Bitcoin?"
      ]
    },
    {
      "cell_type": "markdown",
      "metadata": {
        "id": "R1J1MFu2qu69"
      },
      "source": [
        "# 7.- Parte de la Programación"
      ]
    },
    {
      "cell_type": "markdown",
      "metadata": {
        "id": "hyKwyxwI81WL"
      },
      "source": [
        "Importar todas las librerías necesarias"
      ]
    },
    {
      "cell_type": "code",
      "metadata": {
        "id": "wycJnZQuHzHu"
      },
      "source": [
        "import pandas as pd\n",
        "import numpy as np\n",
        "import matplotlib.pyplot as plt\n",
        "import seaborn as sns"
      ],
      "execution_count": null,
      "outputs": []
    },
    {
      "cell_type": "code",
      "metadata": {
        "id": "eCLR5LcaICE4"
      },
      "source": [
        "df = pd.read_csv(\"/content/Bitcoin Historical Data - In Rupees.csv\")"
      ],
      "execution_count": null,
      "outputs": []
    },
    {
      "cell_type": "markdown",
      "metadata": {
        "id": "-T3OmxL5Ib4z"
      },
      "source": [
        "**Limpieza de la base**"
      ]
    },
    {
      "cell_type": "markdown",
      "metadata": {
        "id": "NI_xztEV4Km8"
      },
      "source": [
        "Tamaño de la base (filas, columnas)"
      ]
    },
    {
      "cell_type": "code",
      "metadata": {
        "id": "0Q0t5_TZIWBP",
        "colab": {
          "base_uri": "https://localhost:8080/"
        },
        "outputId": "c43becfc-10d8-4cc6-c3b7-c6d54490a9e8"
      },
      "source": [
        "df.shape"
      ],
      "execution_count": null,
      "outputs": [
        {
          "output_type": "execute_result",
          "data": {
            "text/plain": [
              "(4056, 7)"
            ]
          },
          "metadata": {},
          "execution_count": 3
        }
      ]
    },
    {
      "cell_type": "markdown",
      "metadata": {
        "id": "23yfQxciIgXz"
      },
      "source": [
        "Vista de la base sin modificaciones"
      ]
    },
    {
      "cell_type": "code",
      "metadata": {
        "id": "_QZruWPIIZHr",
        "colab": {
          "base_uri": "https://localhost:8080/",
          "height": 419
        },
        "outputId": "4cdb5164-8f92-4124-b6dc-cc92cbd9728b"
      },
      "source": [
        "df"
      ],
      "execution_count": null,
      "outputs": [
        {
          "output_type": "execute_result",
          "data": {
            "text/html": [
              "<div>\n",
              "<style scoped>\n",
              "    .dataframe tbody tr th:only-of-type {\n",
              "        vertical-align: middle;\n",
              "    }\n",
              "\n",
              "    .dataframe tbody tr th {\n",
              "        vertical-align: top;\n",
              "    }\n",
              "\n",
              "    .dataframe thead th {\n",
              "        text-align: right;\n",
              "    }\n",
              "</style>\n",
              "<table border=\"1\" class=\"dataframe\">\n",
              "  <thead>\n",
              "    <tr style=\"text-align: right;\">\n",
              "      <th></th>\n",
              "      <th>Date</th>\n",
              "      <th>Price</th>\n",
              "      <th>Open</th>\n",
              "      <th>High</th>\n",
              "      <th>Low</th>\n",
              "      <th>Vol.</th>\n",
              "      <th>Change %</th>\n",
              "    </tr>\n",
              "  </thead>\n",
              "  <tbody>\n",
              "    <tr>\n",
              "      <th>0</th>\n",
              "      <td>Aug 24, 2021</td>\n",
              "      <td>48,846.3</td>\n",
              "      <td>49,532.5</td>\n",
              "      <td>49,847.4</td>\n",
              "      <td>48,812.4</td>\n",
              "      <td>59.89K</td>\n",
              "      <td>-1.40%</td>\n",
              "    </tr>\n",
              "    <tr>\n",
              "      <th>1</th>\n",
              "      <td>Aug 23, 2021</td>\n",
              "      <td>49,539.7</td>\n",
              "      <td>49,255.4</td>\n",
              "      <td>50,498.8</td>\n",
              "      <td>49,038.6</td>\n",
              "      <td>75.37K</td>\n",
              "      <td>0.58%</td>\n",
              "    </tr>\n",
              "    <tr>\n",
              "      <th>2</th>\n",
              "      <td>Aug 22, 2021</td>\n",
              "      <td>49,254.5</td>\n",
              "      <td>48,870.4</td>\n",
              "      <td>49,480.3</td>\n",
              "      <td>48,151.0</td>\n",
              "      <td>49.32K</td>\n",
              "      <td>0.77%</td>\n",
              "    </tr>\n",
              "    <tr>\n",
              "      <th>3</th>\n",
              "      <td>Aug 21, 2021</td>\n",
              "      <td>48,875.8</td>\n",
              "      <td>49,330.0</td>\n",
              "      <td>49,719.1</td>\n",
              "      <td>48,293.5</td>\n",
              "      <td>18.20K</td>\n",
              "      <td>-0.91%</td>\n",
              "    </tr>\n",
              "    <tr>\n",
              "      <th>4</th>\n",
              "      <td>Aug 20, 2021</td>\n",
              "      <td>49,324.0</td>\n",
              "      <td>46,756.7</td>\n",
              "      <td>49,343.3</td>\n",
              "      <td>46,646.8</td>\n",
              "      <td>83.19K</td>\n",
              "      <td>5.49%</td>\n",
              "    </tr>\n",
              "    <tr>\n",
              "      <th>...</th>\n",
              "      <td>...</td>\n",
              "      <td>...</td>\n",
              "      <td>...</td>\n",
              "      <td>...</td>\n",
              "      <td>...</td>\n",
              "      <td>...</td>\n",
              "      <td>...</td>\n",
              "    </tr>\n",
              "    <tr>\n",
              "      <th>4051</th>\n",
              "      <td>Jul 22, 2010</td>\n",
              "      <td>0.1</td>\n",
              "      <td>0.1</td>\n",
              "      <td>0.1</td>\n",
              "      <td>0.1</td>\n",
              "      <td>2.16K</td>\n",
              "      <td>0.00%</td>\n",
              "    </tr>\n",
              "    <tr>\n",
              "      <th>4052</th>\n",
              "      <td>Jul 21, 2010</td>\n",
              "      <td>0.1</td>\n",
              "      <td>0.1</td>\n",
              "      <td>0.1</td>\n",
              "      <td>0.1</td>\n",
              "      <td>0.58K</td>\n",
              "      <td>0.00%</td>\n",
              "    </tr>\n",
              "    <tr>\n",
              "      <th>4053</th>\n",
              "      <td>Jul 20, 2010</td>\n",
              "      <td>0.1</td>\n",
              "      <td>0.1</td>\n",
              "      <td>0.1</td>\n",
              "      <td>0.1</td>\n",
              "      <td>0.26K</td>\n",
              "      <td>0.00%</td>\n",
              "    </tr>\n",
              "    <tr>\n",
              "      <th>4054</th>\n",
              "      <td>Jul 19, 2010</td>\n",
              "      <td>0.1</td>\n",
              "      <td>0.1</td>\n",
              "      <td>0.1</td>\n",
              "      <td>0.1</td>\n",
              "      <td>0.57K</td>\n",
              "      <td>0.00%</td>\n",
              "    </tr>\n",
              "    <tr>\n",
              "      <th>4055</th>\n",
              "      <td>Jul 18, 2010</td>\n",
              "      <td>0.1</td>\n",
              "      <td>0.0</td>\n",
              "      <td>0.1</td>\n",
              "      <td>0.1</td>\n",
              "      <td>0.08K</td>\n",
              "      <td>0.00%</td>\n",
              "    </tr>\n",
              "  </tbody>\n",
              "</table>\n",
              "<p>4056 rows × 7 columns</p>\n",
              "</div>"
            ],
            "text/plain": [
              "              Date     Price      Open      High       Low    Vol. Change %\n",
              "0     Aug 24, 2021  48,846.3  49,532.5  49,847.4  48,812.4  59.89K   -1.40%\n",
              "1     Aug 23, 2021  49,539.7  49,255.4  50,498.8  49,038.6  75.37K    0.58%\n",
              "2     Aug 22, 2021  49,254.5  48,870.4  49,480.3  48,151.0  49.32K    0.77%\n",
              "3     Aug 21, 2021  48,875.8  49,330.0  49,719.1  48,293.5  18.20K   -0.91%\n",
              "4     Aug 20, 2021  49,324.0  46,756.7  49,343.3  46,646.8  83.19K    5.49%\n",
              "...            ...       ...       ...       ...       ...     ...      ...\n",
              "4051  Jul 22, 2010       0.1       0.1       0.1       0.1   2.16K    0.00%\n",
              "4052  Jul 21, 2010       0.1       0.1       0.1       0.1   0.58K    0.00%\n",
              "4053  Jul 20, 2010       0.1       0.1       0.1       0.1   0.26K    0.00%\n",
              "4054  Jul 19, 2010       0.1       0.1       0.1       0.1   0.57K    0.00%\n",
              "4055  Jul 18, 2010       0.1       0.0       0.1       0.1   0.08K    0.00%\n",
              "\n",
              "[4056 rows x 7 columns]"
            ]
          },
          "metadata": {},
          "execution_count": 4
        }
      ]
    },
    {
      "cell_type": "markdown",
      "metadata": {
        "id": "LTrDxe9YI7DS"
      },
      "source": [
        "Cantidad de datos nulos en las columnas"
      ]
    },
    {
      "cell_type": "code",
      "metadata": {
        "id": "sfM3hUYAI8Xv",
        "colab": {
          "base_uri": "https://localhost:8080/"
        },
        "outputId": "700e0502-a819-4e6c-df21-469728b1ee11"
      },
      "source": [
        "df.isnull().sum()"
      ],
      "execution_count": null,
      "outputs": [
        {
          "output_type": "execute_result",
          "data": {
            "text/plain": [
              "Date        0\n",
              "Price       0\n",
              "Open        0\n",
              "High        0\n",
              "Low         0\n",
              "Vol.        0\n",
              "Change %    0\n",
              "dtype: int64"
            ]
          },
          "metadata": {},
          "execution_count": 5
        }
      ]
    },
    {
      "cell_type": "markdown",
      "metadata": {
        "id": "s2fJ59ek4f9h"
      },
      "source": [
        "No hay datos nulos en la base"
      ]
    },
    {
      "cell_type": "markdown",
      "metadata": {
        "id": "1YaU3OuV7H3z"
      },
      "source": [
        "Acomodar los datos para usarlos correctamente en la estadística y las gráficas"
      ]
    },
    {
      "cell_type": "code",
      "metadata": {
        "colab": {
          "base_uri": "https://localhost:8080/",
          "height": 142
        },
        "id": "iGY7mUZj7L_A",
        "outputId": "6a54b385-be89-4cfc-cdcd-ac90a4ca7fa0"
      },
      "source": [
        "#Fuente: https://www.kaggle.com/anseldsouza/bitcoin-price-prediction-using-lstm\n",
        "\n",
        "# Preparar los datos\n",
        "df[\"Price\"] = df[\"Price\"].replace(\",\", \"\", regex = True)\n",
        "df[\"Open\"] = df[\"Open\"].replace(\",\", \"\", regex = True)\n",
        "df[\"High\"] = df[\"High\"].replace(\",\", \"\", regex = True)\n",
        "df[\"Low\"] = df[\"Low\"].replace(\",\", \"\", regex = True)\n",
        "\n",
        "def value_to_float(x):\n",
        "    if type(x) == float or type(x) == int:\n",
        "        return x\n",
        "    if 'K' in x:\n",
        "        if len(x) > 1:\n",
        "            return float(x.replace('K', '')) * 1000\n",
        "        return 1000.0\n",
        "    if 'M' in x:\n",
        "        if len(x) > 1:\n",
        "            return float(x.replace('M', '')) * 1000000\n",
        "        return 1000000.0\n",
        "    if 'B' in x:\n",
        "        return float(x.replace('B', '')) * 1000000000\n",
        "    return 0.0\n",
        "df['Vol.'] = df['Vol.'].apply(value_to_float)\n",
        "\n",
        "df[\"Change %\"] = df[\"Change %\"].replace(\"%\", \"\", regex = True)\n",
        "\n",
        "# A flotantes\n",
        "df[\"Price\"] = pd.to_numeric(df[\"Price\"], downcast=\"float\")\n",
        "df[\"Open\"] = pd.to_numeric(df[\"Open\"], downcast=\"float\")\n",
        "df[\"High\"] = pd.to_numeric(df[\"High\"], downcast=\"float\")\n",
        "df[\"Low\"] = pd.to_numeric(df[\"Low\"], downcast=\"float\")\n",
        "df[\"Vol.\"] = pd.to_numeric(df[\"Vol.\"], downcast=\"float\")\n",
        "df[\"Change %\"] = pd.to_numeric(df[\"Change %\"], downcast=\"float\")\n",
        "\n",
        "df.head(3)"
      ],
      "execution_count": null,
      "outputs": [
        {
          "output_type": "execute_result",
          "data": {
            "text/html": [
              "<div>\n",
              "<style scoped>\n",
              "    .dataframe tbody tr th:only-of-type {\n",
              "        vertical-align: middle;\n",
              "    }\n",
              "\n",
              "    .dataframe tbody tr th {\n",
              "        vertical-align: top;\n",
              "    }\n",
              "\n",
              "    .dataframe thead th {\n",
              "        text-align: right;\n",
              "    }\n",
              "</style>\n",
              "<table border=\"1\" class=\"dataframe\">\n",
              "  <thead>\n",
              "    <tr style=\"text-align: right;\">\n",
              "      <th></th>\n",
              "      <th>Date</th>\n",
              "      <th>Price</th>\n",
              "      <th>Open</th>\n",
              "      <th>High</th>\n",
              "      <th>Low</th>\n",
              "      <th>Vol.</th>\n",
              "      <th>Change %</th>\n",
              "    </tr>\n",
              "  </thead>\n",
              "  <tbody>\n",
              "    <tr>\n",
              "      <th>0</th>\n",
              "      <td>Aug 24, 2021</td>\n",
              "      <td>48846.300781</td>\n",
              "      <td>49532.500000</td>\n",
              "      <td>49847.398438</td>\n",
              "      <td>48812.398438</td>\n",
              "      <td>59890.0</td>\n",
              "      <td>-1.40</td>\n",
              "    </tr>\n",
              "    <tr>\n",
              "      <th>1</th>\n",
              "      <td>Aug 23, 2021</td>\n",
              "      <td>49539.699219</td>\n",
              "      <td>49255.398438</td>\n",
              "      <td>50498.800781</td>\n",
              "      <td>49038.601562</td>\n",
              "      <td>75370.0</td>\n",
              "      <td>0.58</td>\n",
              "    </tr>\n",
              "    <tr>\n",
              "      <th>2</th>\n",
              "      <td>Aug 22, 2021</td>\n",
              "      <td>49254.500000</td>\n",
              "      <td>48870.398438</td>\n",
              "      <td>49480.300781</td>\n",
              "      <td>48151.000000</td>\n",
              "      <td>49320.0</td>\n",
              "      <td>0.77</td>\n",
              "    </tr>\n",
              "  </tbody>\n",
              "</table>\n",
              "</div>"
            ],
            "text/plain": [
              "           Date         Price          Open  ...           Low     Vol.  Change %\n",
              "0  Aug 24, 2021  48846.300781  49532.500000  ...  48812.398438  59890.0     -1.40\n",
              "1  Aug 23, 2021  49539.699219  49255.398438  ...  49038.601562  75370.0      0.58\n",
              "2  Aug 22, 2021  49254.500000  48870.398438  ...  48151.000000  49320.0      0.77\n",
              "\n",
              "[3 rows x 7 columns]"
            ]
          },
          "metadata": {},
          "execution_count": 6
        }
      ]
    },
    {
      "cell_type": "markdown",
      "metadata": {
        "id": "J18T428yI-va"
      },
      "source": [
        "Cambiar nombres de columnas para mejor entendimiento de la base"
      ]
    },
    {
      "cell_type": "code",
      "metadata": {
        "id": "jZmDgL4XJDOJ",
        "colab": {
          "base_uri": "https://localhost:8080/",
          "height": 419
        },
        "outputId": "498ee92d-9081-40f9-92cc-f7c941128981"
      },
      "source": [
        "df = df.rename(columns = {'Price':'Precio'})\n",
        "df = df.rename(columns = {'Date':'Fecha'})\n",
        "df = df.rename(columns = {'Open':'Apertura'})\n",
        "df = df.rename(columns = {'High':'Alto'})\n",
        "df = df.rename(columns = {'Low':'Bajo'})\n",
        "df = df.rename(columns = {'Vol.':'Volumen'})\n",
        "df = df.rename(columns = {'Change %':'CambioP'})\n",
        "df"
      ],
      "execution_count": null,
      "outputs": [
        {
          "output_type": "execute_result",
          "data": {
            "text/html": [
              "<div>\n",
              "<style scoped>\n",
              "    .dataframe tbody tr th:only-of-type {\n",
              "        vertical-align: middle;\n",
              "    }\n",
              "\n",
              "    .dataframe tbody tr th {\n",
              "        vertical-align: top;\n",
              "    }\n",
              "\n",
              "    .dataframe thead th {\n",
              "        text-align: right;\n",
              "    }\n",
              "</style>\n",
              "<table border=\"1\" class=\"dataframe\">\n",
              "  <thead>\n",
              "    <tr style=\"text-align: right;\">\n",
              "      <th></th>\n",
              "      <th>Fecha</th>\n",
              "      <th>Precio</th>\n",
              "      <th>Apertura</th>\n",
              "      <th>Alto</th>\n",
              "      <th>Bajo</th>\n",
              "      <th>Volumen</th>\n",
              "      <th>CambioP</th>\n",
              "    </tr>\n",
              "  </thead>\n",
              "  <tbody>\n",
              "    <tr>\n",
              "      <th>0</th>\n",
              "      <td>Aug 24, 2021</td>\n",
              "      <td>48846.300781</td>\n",
              "      <td>49532.500000</td>\n",
              "      <td>49847.398438</td>\n",
              "      <td>48812.398438</td>\n",
              "      <td>59890.0</td>\n",
              "      <td>-1.40</td>\n",
              "    </tr>\n",
              "    <tr>\n",
              "      <th>1</th>\n",
              "      <td>Aug 23, 2021</td>\n",
              "      <td>49539.699219</td>\n",
              "      <td>49255.398438</td>\n",
              "      <td>50498.800781</td>\n",
              "      <td>49038.601562</td>\n",
              "      <td>75370.0</td>\n",
              "      <td>0.58</td>\n",
              "    </tr>\n",
              "    <tr>\n",
              "      <th>2</th>\n",
              "      <td>Aug 22, 2021</td>\n",
              "      <td>49254.500000</td>\n",
              "      <td>48870.398438</td>\n",
              "      <td>49480.300781</td>\n",
              "      <td>48151.000000</td>\n",
              "      <td>49320.0</td>\n",
              "      <td>0.77</td>\n",
              "    </tr>\n",
              "    <tr>\n",
              "      <th>3</th>\n",
              "      <td>Aug 21, 2021</td>\n",
              "      <td>48875.800781</td>\n",
              "      <td>49330.000000</td>\n",
              "      <td>49719.101562</td>\n",
              "      <td>48293.500000</td>\n",
              "      <td>18200.0</td>\n",
              "      <td>-0.91</td>\n",
              "    </tr>\n",
              "    <tr>\n",
              "      <th>4</th>\n",
              "      <td>Aug 20, 2021</td>\n",
              "      <td>49324.000000</td>\n",
              "      <td>46756.699219</td>\n",
              "      <td>49343.300781</td>\n",
              "      <td>46646.800781</td>\n",
              "      <td>83190.0</td>\n",
              "      <td>5.49</td>\n",
              "    </tr>\n",
              "    <tr>\n",
              "      <th>...</th>\n",
              "      <td>...</td>\n",
              "      <td>...</td>\n",
              "      <td>...</td>\n",
              "      <td>...</td>\n",
              "      <td>...</td>\n",
              "      <td>...</td>\n",
              "      <td>...</td>\n",
              "    </tr>\n",
              "    <tr>\n",
              "      <th>4051</th>\n",
              "      <td>Jul 22, 2010</td>\n",
              "      <td>0.100000</td>\n",
              "      <td>0.100000</td>\n",
              "      <td>0.100000</td>\n",
              "      <td>0.100000</td>\n",
              "      <td>2160.0</td>\n",
              "      <td>0.00</td>\n",
              "    </tr>\n",
              "    <tr>\n",
              "      <th>4052</th>\n",
              "      <td>Jul 21, 2010</td>\n",
              "      <td>0.100000</td>\n",
              "      <td>0.100000</td>\n",
              "      <td>0.100000</td>\n",
              "      <td>0.100000</td>\n",
              "      <td>580.0</td>\n",
              "      <td>0.00</td>\n",
              "    </tr>\n",
              "    <tr>\n",
              "      <th>4053</th>\n",
              "      <td>Jul 20, 2010</td>\n",
              "      <td>0.100000</td>\n",
              "      <td>0.100000</td>\n",
              "      <td>0.100000</td>\n",
              "      <td>0.100000</td>\n",
              "      <td>260.0</td>\n",
              "      <td>0.00</td>\n",
              "    </tr>\n",
              "    <tr>\n",
              "      <th>4054</th>\n",
              "      <td>Jul 19, 2010</td>\n",
              "      <td>0.100000</td>\n",
              "      <td>0.100000</td>\n",
              "      <td>0.100000</td>\n",
              "      <td>0.100000</td>\n",
              "      <td>570.0</td>\n",
              "      <td>0.00</td>\n",
              "    </tr>\n",
              "    <tr>\n",
              "      <th>4055</th>\n",
              "      <td>Jul 18, 2010</td>\n",
              "      <td>0.100000</td>\n",
              "      <td>0.000000</td>\n",
              "      <td>0.100000</td>\n",
              "      <td>0.100000</td>\n",
              "      <td>80.0</td>\n",
              "      <td>0.00</td>\n",
              "    </tr>\n",
              "  </tbody>\n",
              "</table>\n",
              "<p>4056 rows × 7 columns</p>\n",
              "</div>"
            ],
            "text/plain": [
              "             Fecha        Precio      Apertura  ...          Bajo  Volumen  CambioP\n",
              "0     Aug 24, 2021  48846.300781  49532.500000  ...  48812.398438  59890.0    -1.40\n",
              "1     Aug 23, 2021  49539.699219  49255.398438  ...  49038.601562  75370.0     0.58\n",
              "2     Aug 22, 2021  49254.500000  48870.398438  ...  48151.000000  49320.0     0.77\n",
              "3     Aug 21, 2021  48875.800781  49330.000000  ...  48293.500000  18200.0    -0.91\n",
              "4     Aug 20, 2021  49324.000000  46756.699219  ...  46646.800781  83190.0     5.49\n",
              "...            ...           ...           ...  ...           ...      ...      ...\n",
              "4051  Jul 22, 2010      0.100000      0.100000  ...      0.100000   2160.0     0.00\n",
              "4052  Jul 21, 2010      0.100000      0.100000  ...      0.100000    580.0     0.00\n",
              "4053  Jul 20, 2010      0.100000      0.100000  ...      0.100000    260.0     0.00\n",
              "4054  Jul 19, 2010      0.100000      0.100000  ...      0.100000    570.0     0.00\n",
              "4055  Jul 18, 2010      0.100000      0.000000  ...      0.100000     80.0     0.00\n",
              "\n",
              "[4056 rows x 7 columns]"
            ]
          },
          "metadata": {},
          "execution_count": 7
        }
      ]
    },
    {
      "cell_type": "markdown",
      "metadata": {
        "id": "2izmxyOQ7onv"
      },
      "source": [
        "La base está lista. Ahora solo queda guardar la nueva base de datos"
      ]
    },
    {
      "cell_type": "code",
      "metadata": {
        "id": "6IBR3NSx56SH"
      },
      "source": [
        "df.to_csv(\"Datos históricos del Bitcoin.csv\")"
      ],
      "execution_count": null,
      "outputs": []
    },
    {
      "cell_type": "markdown",
      "metadata": {
        "id": "uIsoQcOS6IzK"
      },
      "source": [
        "## **Información estadística básica**"
      ]
    },
    {
      "cell_type": "markdown",
      "metadata": {
        "id": "LGeV_cB56p0m"
      },
      "source": [
        "Importamos la base nueva"
      ]
    },
    {
      "cell_type": "code",
      "metadata": {
        "colab": {
          "base_uri": "https://localhost:8080/",
          "height": 419
        },
        "id": "uXaDPa3C6z7B",
        "outputId": "0e51dd17-e310-467f-83b9-cc7ea2c563ac"
      },
      "source": [
        "df = pd.read_csv(\"/content/Datos históricos del Bitcoin.csv\")\n",
        "df"
      ],
      "execution_count": null,
      "outputs": [
        {
          "output_type": "execute_result",
          "data": {
            "text/html": [
              "<div>\n",
              "<style scoped>\n",
              "    .dataframe tbody tr th:only-of-type {\n",
              "        vertical-align: middle;\n",
              "    }\n",
              "\n",
              "    .dataframe tbody tr th {\n",
              "        vertical-align: top;\n",
              "    }\n",
              "\n",
              "    .dataframe thead th {\n",
              "        text-align: right;\n",
              "    }\n",
              "</style>\n",
              "<table border=\"1\" class=\"dataframe\">\n",
              "  <thead>\n",
              "    <tr style=\"text-align: right;\">\n",
              "      <th></th>\n",
              "      <th>Unnamed: 0</th>\n",
              "      <th>Fecha</th>\n",
              "      <th>Precio</th>\n",
              "      <th>Apertura</th>\n",
              "      <th>Alto</th>\n",
              "      <th>Bajo</th>\n",
              "      <th>Volumen</th>\n",
              "      <th>CambioP</th>\n",
              "    </tr>\n",
              "  </thead>\n",
              "  <tbody>\n",
              "    <tr>\n",
              "      <th>0</th>\n",
              "      <td>0</td>\n",
              "      <td>Aug 24, 2021</td>\n",
              "      <td>48846.3</td>\n",
              "      <td>49532.5</td>\n",
              "      <td>49847.4</td>\n",
              "      <td>48812.4</td>\n",
              "      <td>59890.0</td>\n",
              "      <td>-1.40</td>\n",
              "    </tr>\n",
              "    <tr>\n",
              "      <th>1</th>\n",
              "      <td>1</td>\n",
              "      <td>Aug 23, 2021</td>\n",
              "      <td>49539.7</td>\n",
              "      <td>49255.4</td>\n",
              "      <td>50498.8</td>\n",
              "      <td>49038.6</td>\n",
              "      <td>75370.0</td>\n",
              "      <td>0.58</td>\n",
              "    </tr>\n",
              "    <tr>\n",
              "      <th>2</th>\n",
              "      <td>2</td>\n",
              "      <td>Aug 22, 2021</td>\n",
              "      <td>49254.5</td>\n",
              "      <td>48870.4</td>\n",
              "      <td>49480.3</td>\n",
              "      <td>48151.0</td>\n",
              "      <td>49320.0</td>\n",
              "      <td>0.77</td>\n",
              "    </tr>\n",
              "    <tr>\n",
              "      <th>3</th>\n",
              "      <td>3</td>\n",
              "      <td>Aug 21, 2021</td>\n",
              "      <td>48875.8</td>\n",
              "      <td>49330.0</td>\n",
              "      <td>49719.1</td>\n",
              "      <td>48293.5</td>\n",
              "      <td>18200.0</td>\n",
              "      <td>-0.91</td>\n",
              "    </tr>\n",
              "    <tr>\n",
              "      <th>4</th>\n",
              "      <td>4</td>\n",
              "      <td>Aug 20, 2021</td>\n",
              "      <td>49324.0</td>\n",
              "      <td>46756.7</td>\n",
              "      <td>49343.3</td>\n",
              "      <td>46646.8</td>\n",
              "      <td>83190.0</td>\n",
              "      <td>5.49</td>\n",
              "    </tr>\n",
              "    <tr>\n",
              "      <th>...</th>\n",
              "      <td>...</td>\n",
              "      <td>...</td>\n",
              "      <td>...</td>\n",
              "      <td>...</td>\n",
              "      <td>...</td>\n",
              "      <td>...</td>\n",
              "      <td>...</td>\n",
              "      <td>...</td>\n",
              "    </tr>\n",
              "    <tr>\n",
              "      <th>4051</th>\n",
              "      <td>4051</td>\n",
              "      <td>Jul 22, 2010</td>\n",
              "      <td>0.1</td>\n",
              "      <td>0.1</td>\n",
              "      <td>0.1</td>\n",
              "      <td>0.1</td>\n",
              "      <td>2160.0</td>\n",
              "      <td>0.00</td>\n",
              "    </tr>\n",
              "    <tr>\n",
              "      <th>4052</th>\n",
              "      <td>4052</td>\n",
              "      <td>Jul 21, 2010</td>\n",
              "      <td>0.1</td>\n",
              "      <td>0.1</td>\n",
              "      <td>0.1</td>\n",
              "      <td>0.1</td>\n",
              "      <td>580.0</td>\n",
              "      <td>0.00</td>\n",
              "    </tr>\n",
              "    <tr>\n",
              "      <th>4053</th>\n",
              "      <td>4053</td>\n",
              "      <td>Jul 20, 2010</td>\n",
              "      <td>0.1</td>\n",
              "      <td>0.1</td>\n",
              "      <td>0.1</td>\n",
              "      <td>0.1</td>\n",
              "      <td>260.0</td>\n",
              "      <td>0.00</td>\n",
              "    </tr>\n",
              "    <tr>\n",
              "      <th>4054</th>\n",
              "      <td>4054</td>\n",
              "      <td>Jul 19, 2010</td>\n",
              "      <td>0.1</td>\n",
              "      <td>0.1</td>\n",
              "      <td>0.1</td>\n",
              "      <td>0.1</td>\n",
              "      <td>570.0</td>\n",
              "      <td>0.00</td>\n",
              "    </tr>\n",
              "    <tr>\n",
              "      <th>4055</th>\n",
              "      <td>4055</td>\n",
              "      <td>Jul 18, 2010</td>\n",
              "      <td>0.1</td>\n",
              "      <td>0.0</td>\n",
              "      <td>0.1</td>\n",
              "      <td>0.1</td>\n",
              "      <td>80.0</td>\n",
              "      <td>0.00</td>\n",
              "    </tr>\n",
              "  </tbody>\n",
              "</table>\n",
              "<p>4056 rows × 8 columns</p>\n",
              "</div>"
            ],
            "text/plain": [
              "      Unnamed: 0         Fecha   Precio  ...     Bajo  Volumen  CambioP\n",
              "0              0  Aug 24, 2021  48846.3  ...  48812.4  59890.0    -1.40\n",
              "1              1  Aug 23, 2021  49539.7  ...  49038.6  75370.0     0.58\n",
              "2              2  Aug 22, 2021  49254.5  ...  48151.0  49320.0     0.77\n",
              "3              3  Aug 21, 2021  48875.8  ...  48293.5  18200.0    -0.91\n",
              "4              4  Aug 20, 2021  49324.0  ...  46646.8  83190.0     5.49\n",
              "...          ...           ...      ...  ...      ...      ...      ...\n",
              "4051        4051  Jul 22, 2010      0.1  ...      0.1   2160.0     0.00\n",
              "4052        4052  Jul 21, 2010      0.1  ...      0.1    580.0     0.00\n",
              "4053        4053  Jul 20, 2010      0.1  ...      0.1    260.0     0.00\n",
              "4054        4054  Jul 19, 2010      0.1  ...      0.1    570.0     0.00\n",
              "4055        4055  Jul 18, 2010      0.1  ...      0.1     80.0     0.00\n",
              "\n",
              "[4056 rows x 8 columns]"
            ]
          },
          "metadata": {},
          "execution_count": 24
        }
      ]
    },
    {
      "cell_type": "markdown",
      "metadata": {
        "id": "X11kRMF474KA"
      },
      "source": [
        "Eliminamos la columna \"Unnamed: 0\""
      ]
    },
    {
      "cell_type": "code",
      "metadata": {
        "colab": {
          "base_uri": "https://localhost:8080/",
          "height": 142
        },
        "id": "8QyurHAQ8Buw",
        "outputId": "ed4a7eba-2a15-4156-d110-3931b9a22936"
      },
      "source": [
        "df.drop(columns = \"Unnamed: 0\", inplace = True)\n",
        "df.head(3)"
      ],
      "execution_count": null,
      "outputs": [
        {
          "output_type": "execute_result",
          "data": {
            "text/html": [
              "<div>\n",
              "<style scoped>\n",
              "    .dataframe tbody tr th:only-of-type {\n",
              "        vertical-align: middle;\n",
              "    }\n",
              "\n",
              "    .dataframe tbody tr th {\n",
              "        vertical-align: top;\n",
              "    }\n",
              "\n",
              "    .dataframe thead th {\n",
              "        text-align: right;\n",
              "    }\n",
              "</style>\n",
              "<table border=\"1\" class=\"dataframe\">\n",
              "  <thead>\n",
              "    <tr style=\"text-align: right;\">\n",
              "      <th></th>\n",
              "      <th>Fecha</th>\n",
              "      <th>Precio</th>\n",
              "      <th>Apertura</th>\n",
              "      <th>Alto</th>\n",
              "      <th>Bajo</th>\n",
              "      <th>Volumen</th>\n",
              "      <th>CambioP</th>\n",
              "    </tr>\n",
              "  </thead>\n",
              "  <tbody>\n",
              "    <tr>\n",
              "      <th>0</th>\n",
              "      <td>Aug 24, 2021</td>\n",
              "      <td>48846.3</td>\n",
              "      <td>49532.5</td>\n",
              "      <td>49847.4</td>\n",
              "      <td>48812.4</td>\n",
              "      <td>59890.0</td>\n",
              "      <td>-1.40</td>\n",
              "    </tr>\n",
              "    <tr>\n",
              "      <th>1</th>\n",
              "      <td>Aug 23, 2021</td>\n",
              "      <td>49539.7</td>\n",
              "      <td>49255.4</td>\n",
              "      <td>50498.8</td>\n",
              "      <td>49038.6</td>\n",
              "      <td>75370.0</td>\n",
              "      <td>0.58</td>\n",
              "    </tr>\n",
              "    <tr>\n",
              "      <th>2</th>\n",
              "      <td>Aug 22, 2021</td>\n",
              "      <td>49254.5</td>\n",
              "      <td>48870.4</td>\n",
              "      <td>49480.3</td>\n",
              "      <td>48151.0</td>\n",
              "      <td>49320.0</td>\n",
              "      <td>0.77</td>\n",
              "    </tr>\n",
              "  </tbody>\n",
              "</table>\n",
              "</div>"
            ],
            "text/plain": [
              "          Fecha   Precio  Apertura     Alto     Bajo  Volumen  CambioP\n",
              "0  Aug 24, 2021  48846.3   49532.5  49847.4  48812.4  59890.0    -1.40\n",
              "1  Aug 23, 2021  49539.7   49255.4  50498.8  49038.6  75370.0     0.58\n",
              "2  Aug 22, 2021  49254.5   48870.4  49480.3  48151.0  49320.0     0.77"
            ]
          },
          "metadata": {},
          "execution_count": 25
        }
      ]
    },
    {
      "cell_type": "markdown",
      "metadata": {
        "id": "akChE7vE7sRZ"
      },
      "source": [
        "- Promedio de las columnas"
      ]
    },
    {
      "cell_type": "code",
      "metadata": {
        "colab": {
          "base_uri": "https://localhost:8080/"
        },
        "id": "NIagL9xN7qij",
        "outputId": "977a8b2d-790c-4160-9bcc-0dad0ef1f06b"
      },
      "source": [
        "for i in range(1, len(df.columns)):\n",
        "  print(\"El promedio de los elementos de la columna \", df.columns[i], \" es \", df[df.columns[i]].mean())"
      ],
      "execution_count": null,
      "outputs": [
        {
          "output_type": "stream",
          "name": "stdout",
          "text": [
            "El promedio de los elementos de la columna  Precio  es  5421.927292899433\n",
            "El promedio de los elementos de la columna  Apertura  es  5409.91208086787\n",
            "El promedio de los elementos de la columna  Alto  es  5575.478525641043\n",
            "El promedio de los elementos de la columna  Bajo  es  5227.333703155872\n",
            "El promedio de los elementos de la columna  Volumen  es  292762.82790927024\n",
            "El promedio de los elementos de la columna  CambioP  es  0.4939644970414198\n"
          ]
        }
      ]
    },
    {
      "cell_type": "markdown",
      "metadata": {
        "id": "Osoot_5F73Ta"
      },
      "source": [
        "Los promedios son importantes porque así nos podemos dar una idea general de cómo se ha comportado el bitcoin de 2010 a 2021."
      ]
    },
    {
      "cell_type": "markdown",
      "metadata": {
        "id": "dR-Pjifz8XNI"
      },
      "source": [
        "- Suma acumulada fila por fila"
      ]
    },
    {
      "cell_type": "code",
      "metadata": {
        "colab": {
          "base_uri": "https://localhost:8080/"
        },
        "id": "Th00XWfy8rl3",
        "outputId": "454705fc-66b0-4ead-f2ef-e9ae6c9da9af"
      },
      "source": [
        "print(\"La suma acumulada del volumen es\\n\", df['Volumen'].cumsum())"
      ],
      "execution_count": null,
      "outputs": [
        {
          "output_type": "stream",
          "name": "stdout",
          "text": [
            "La suma acumulada del volumen es\n",
            " 0       5.989000e+04\n",
            "1       1.352600e+05\n",
            "2       1.845800e+05\n",
            "3       2.027800e+05\n",
            "4       2.859700e+05\n",
            "            ...     \n",
            "4051    1.187445e+09\n",
            "4052    1.187445e+09\n",
            "4053    1.187445e+09\n",
            "4054    1.187446e+09\n",
            "4055    1.187446e+09\n",
            "Name: Volumen, Length: 4056, dtype: float64\n"
          ]
        }
      ]
    },
    {
      "cell_type": "markdown",
      "metadata": {
        "id": "O0KJvwM79I86"
      },
      "source": [
        "De las sumas acumuladas, esta es la que más es útil, ya que así podemos ver cómo crece el volumen del Bitcoin con cada día que pasa."
      ]
    },
    {
      "cell_type": "markdown",
      "metadata": {
        "id": "YV4qFhru9dt6"
      },
      "source": [
        "- Mínimo y máximo"
      ]
    },
    {
      "cell_type": "code",
      "metadata": {
        "colab": {
          "base_uri": "https://localhost:8080/"
        },
        "id": "1Grren8x89Xf",
        "outputId": "7c51ebf7-0eb9-433c-a1e9-0168165b516e"
      },
      "source": [
        "for i in range(1, len(df.columns)):\n",
        "  print(\"El mínimo de la columna \", df.columns[i], \" es \", df[df.columns[i]].min(), \" y el máximo es \", df[df.columns[i]].max())"
      ],
      "execution_count": null,
      "outputs": [
        {
          "output_type": "stream",
          "name": "stdout",
          "text": [
            "El mínimo de la columna  Precio  es  0.1  y el máximo es  63540.9\n",
            "El mínimo de la columna  Apertura  es  0.0  y el máximo es  63544.2\n",
            "El mínimo de la columna  Alto  es  0.1  y el máximo es  64778.0\n",
            "El mínimo de la columna  Bajo  es  0.0  y el máximo es  62067.5\n",
            "El mínimo de la columna  Volumen  es  0.0  y el máximo es  20260000.0\n",
            "El mínimo de la columna  CambioP  es  -57.21  y el máximo es  336.84\n"
          ]
        }
      ]
    },
    {
      "cell_type": "markdown",
      "metadata": {
        "id": "Lxk-9HdZ934Y"
      },
      "source": [
        "Saber los máximos y mínimos nos ayuda a ver cómo ha mejorado el bitcoin, o bien, el posible gran potencial que tiene.\n",
        "\n",
        "Además, con esta información podemos contestar una de las preguntas de interés:\n",
        "\n",
        "**> 1.- ¿Cuál es precio más alto que ha alcanzado el Bitcoin?**\n",
        "\n",
        "La respuesta es: **63,540.8984375 USD**"
      ]
    },
    {
      "cell_type": "markdown",
      "metadata": {
        "id": "s_aNwbdi-GPD"
      },
      "source": [
        "- Desviación estándar"
      ]
    },
    {
      "cell_type": "code",
      "metadata": {
        "colab": {
          "base_uri": "https://localhost:8080/"
        },
        "id": "sLO_pb-A-SOK",
        "outputId": "c054f6df-e947-4c44-f994-fa180b8451e5"
      },
      "source": [
        "for i in range(1, len(df.columns)):\n",
        "  print(\"La desviación estándar de la columna\", df.columns[i], \"es\", df[df.columns[i]].std())"
      ],
      "execution_count": null,
      "outputs": [
        {
          "output_type": "stream",
          "name": "stdout",
          "text": [
            "La desviación estándar de la columna Precio es 10816.886398866334\n",
            "La desviación estándar de la columna Apertura es 10795.756470951057\n",
            "La desviación estándar de la columna Alto es 11141.061146863907\n",
            "La desviación estándar de la columna Bajo es 10406.451635156804\n",
            "La desviación estándar de la columna Volumen es 983381.4437095218\n",
            "La desviación estándar de la columna CambioP es 7.739581700286563\n"
          ]
        }
      ]
    },
    {
      "cell_type": "markdown",
      "metadata": {
        "id": "ZOldExNT-zc_"
      },
      "source": [
        "Con la desviación estándar podemos saber más o menos cuánto varían los datos y saber qué tan estable es el bitcoin."
      ]
    },
    {
      "cell_type": "markdown",
      "metadata": {
        "id": "UKpArlfi_Jo1"
      },
      "source": [
        "- Correlación"
      ]
    },
    {
      "cell_type": "code",
      "metadata": {
        "colab": {
          "base_uri": "https://localhost:8080/",
          "height": 235
        },
        "id": "Rxh1HxXk_bQP",
        "outputId": "f38709d0-4aba-44a7-e166-e47de540724c"
      },
      "source": [
        "df.corr()"
      ],
      "execution_count": null,
      "outputs": [
        {
          "output_type": "execute_result",
          "data": {
            "text/html": [
              "<div>\n",
              "<style scoped>\n",
              "    .dataframe tbody tr th:only-of-type {\n",
              "        vertical-align: middle;\n",
              "    }\n",
              "\n",
              "    .dataframe tbody tr th {\n",
              "        vertical-align: top;\n",
              "    }\n",
              "\n",
              "    .dataframe thead th {\n",
              "        text-align: right;\n",
              "    }\n",
              "</style>\n",
              "<table border=\"1\" class=\"dataframe\">\n",
              "  <thead>\n",
              "    <tr style=\"text-align: right;\">\n",
              "      <th></th>\n",
              "      <th>Precio</th>\n",
              "      <th>Apertura</th>\n",
              "      <th>Alto</th>\n",
              "      <th>Bajo</th>\n",
              "      <th>Volumen</th>\n",
              "      <th>CambioP</th>\n",
              "    </tr>\n",
              "  </thead>\n",
              "  <tbody>\n",
              "    <tr>\n",
              "      <th>Precio</th>\n",
              "      <td>1.000000</td>\n",
              "      <td>0.998832</td>\n",
              "      <td>0.999497</td>\n",
              "      <td>0.999337</td>\n",
              "      <td>0.060510</td>\n",
              "      <td>-0.004513</td>\n",
              "    </tr>\n",
              "    <tr>\n",
              "      <th>Apertura</th>\n",
              "      <td>0.998832</td>\n",
              "      <td>1.000000</td>\n",
              "      <td>0.999483</td>\n",
              "      <td>0.999041</td>\n",
              "      <td>0.061104</td>\n",
              "      <td>-0.017551</td>\n",
              "    </tr>\n",
              "    <tr>\n",
              "      <th>Alto</th>\n",
              "      <td>0.999497</td>\n",
              "      <td>0.999483</td>\n",
              "      <td>1.000000</td>\n",
              "      <td>0.998949</td>\n",
              "      <td>0.060524</td>\n",
              "      <td>-0.010393</td>\n",
              "    </tr>\n",
              "    <tr>\n",
              "      <th>Bajo</th>\n",
              "      <td>0.999337</td>\n",
              "      <td>0.999041</td>\n",
              "      <td>0.998949</td>\n",
              "      <td>1.000000</td>\n",
              "      <td>0.060949</td>\n",
              "      <td>-0.009531</td>\n",
              "    </tr>\n",
              "    <tr>\n",
              "      <th>Volumen</th>\n",
              "      <td>0.060510</td>\n",
              "      <td>0.061104</td>\n",
              "      <td>0.060524</td>\n",
              "      <td>0.060949</td>\n",
              "      <td>1.000000</td>\n",
              "      <td>-0.009292</td>\n",
              "    </tr>\n",
              "    <tr>\n",
              "      <th>CambioP</th>\n",
              "      <td>-0.004513</td>\n",
              "      <td>-0.017551</td>\n",
              "      <td>-0.010393</td>\n",
              "      <td>-0.009531</td>\n",
              "      <td>-0.009292</td>\n",
              "      <td>1.000000</td>\n",
              "    </tr>\n",
              "  </tbody>\n",
              "</table>\n",
              "</div>"
            ],
            "text/plain": [
              "            Precio  Apertura      Alto      Bajo   Volumen   CambioP\n",
              "Precio    1.000000  0.998832  0.999497  0.999337  0.060510 -0.004513\n",
              "Apertura  0.998832  1.000000  0.999483  0.999041  0.061104 -0.017551\n",
              "Alto      0.999497  0.999483  1.000000  0.998949  0.060524 -0.010393\n",
              "Bajo      0.999337  0.999041  0.998949  1.000000  0.060949 -0.009531\n",
              "Volumen   0.060510  0.061104  0.060524  0.060949  1.000000 -0.009292\n",
              "CambioP  -0.004513 -0.017551 -0.010393 -0.009531 -0.009292  1.000000"
            ]
          },
          "metadata": {},
          "execution_count": 30
        }
      ]
    },
    {
      "cell_type": "markdown",
      "metadata": {
        "id": "ttApg98e_e-t"
      },
      "source": [
        "Y por último, la correlación. Con esto podemos saber cuáles variables están relacionadas con otras y en qué medida. Mientras más correlación haya, más relacionadas están las variables.\n",
        "\n",
        "En el siguiente mapa de correlación esto se aprecia mejor:"
      ]
    },
    {
      "cell_type": "code",
      "metadata": {
        "colab": {
          "base_uri": "https://localhost:8080/",
          "height": 641
        },
        "id": "WVjruGXL_1eX",
        "outputId": "a8f19141-cb90-4052-fd25-0df4aeea2c45"
      },
      "source": [
        "fig, ax = plt.subplots(figsize = (10,10))\n",
        "sns.heatmap(df.corr(), annot= True, linewidths = 0.5, fmt = \".1f\", ax = ax)\n",
        "plt.xticks(rotation=90)\n",
        "plt.yticks(rotation=0)\n",
        "plt.title('Mapa de correlación')\n",
        "plt.show()"
      ],
      "execution_count": null,
      "outputs": [
        {
          "output_type": "display_data",
          "data": {
            "image/png": "[encoded data removed]",
            "text/plain": [
              "<Figure size 720x720 with 2 Axes>"
            ]
          },
          "metadata": {
            "needs_background": "light"
          }
        }
      ]
    },
    {
      "cell_type": "markdown",
      "metadata": {
        "id": "DqJbQ4r1GOpB"
      },
      "source": [
        "Como vemos, los precios se relacionan mucho entre sí, pero estos no se relacionan casi nada con el volumen o el cambio del porcentaje."
      ]
    },
    {
      "cell_type": "markdown",
      "metadata": {
        "id": "JphRro3DpFhV"
      },
      "source": [
        "##**Gráficas**"
      ]
    },
    {
      "cell_type": "code",
      "metadata": {
        "id": "-7KzWQaU-D3J",
        "colab": {
          "base_uri": "https://localhost:8080/",
          "height": 563
        },
        "outputId": "7e45583d-5806-47a0-88f5-574f5457903a"
      },
      "source": [
        "# Fecha\n",
        "\n",
        "a = len(df['Fecha'].head(55)) - 1\n",
        "f = []\n",
        "\n",
        "while (a >= 0):\n",
        "  f.append(df['Fecha'].head(55)[a])\n",
        "  a = a - 1\n",
        "fecha = f\n",
        "\n",
        "# Precio\n",
        "a = len(df['Precio'].head(55)) - 1\n",
        "f = []\n",
        "\n",
        "while (a >= 0):\n",
        "  f.append(df['Precio'].head(55)[a])\n",
        "  a = a - 1\n",
        "precio = f\n",
        "\n",
        "# Mayor\n",
        "a = len(df['Alto'].head(55)) - 1\n",
        "f = []\n",
        "\n",
        "while (a >= 0):\n",
        "  f.append(df['Alto'].head(55)[a])\n",
        "  a = a - 1\n",
        "mayor = f\n",
        "\n",
        "# Menor\n",
        "a = len(df['Bajo'].head(55)) - 1\n",
        "f = []\n",
        "\n",
        "while (a >= 0):\n",
        "  f.append(df['Bajo'].head(55)[a])\n",
        "  a = a - 1\n",
        "menor = f\n",
        "\n",
        "fig, ax = plt.subplots(figsize = (15,7))\n",
        "ax.plot(fecha, precio, color = 'tab:purple', label = \"Precio final\")\n",
        "ax.plot(fecha, menor, color = 'tab:green', label = \"Precio menor\")\n",
        "ax.plot(fecha, mayor, color = 'tab:red', label = \"Precio mayor\")\n",
        "plt.legend(loc = 'upper left', fontsize = 13)\n",
        "plt.ylabel(\"Precio del Bitcoin (USD)\\n\\n\", fontsize = 14)\n",
        "plt.xlabel(\"\\nFecha\", fontsize = 14)\n",
        "plt.title(\"Comparativa de precios bajo, alto y final del Bitcoin del 1 de Julio al 24 de Agosto del 2021\\n\", fontsize = 20)\n",
        "plt.xticks(rotation = 90) # Fuente de apoyo para esta línea: https://www.delftstack.com/es/howto/matplotlib/how-to-rotate-x-axis-tick-label-text-in-matplotlib/\n",
        "plt.show()"
      ],
      "execution_count": null,
      "outputs": [
        {
          "output_type": "display_data",
          "data": {
            "image/png": "[encoded data removed]",
            "text/plain": [
              "<Figure size 1080x504 with 1 Axes>"
            ]
          },
          "metadata": {
            "needs_background": "light"
          }
        }
      ]
    },
    {
      "cell_type": "markdown",
      "metadata": {
        "id": "F26e_LUpuO5f"
      },
      "source": [
        "En la gráfica anterior se muestran solo los datos del 1/Jul/2021 al 24/Ago/2021 con el fin de mostrar con mayor claridad la separación entre cada línea de precios, ya que si se grafican todos los datos, no se puede apreciar bien cómo se comporta el precio del bitcoin comparándolo con su máximo y mínimo diario.\n",
        "\n",
        "Y vemos que el precio va a la alza."
      ]
    },
    {
      "cell_type": "markdown",
      "metadata": {
        "id": "MkjjcdbEvdcB"
      },
      "source": [
        "Ahora, para la siguiente gráfica primero se ordenaron los datos de más antiguo a más actual para visualizar mejor los datos"
      ]
    },
    {
      "cell_type": "markdown",
      "metadata": {
        "id": "dpGFaa0ev6iX"
      },
      "source": [
        "- Ordenar fecha"
      ]
    },
    {
      "cell_type": "code",
      "metadata": {
        "id": "M1EEHkwDv5uC"
      },
      "source": [
        "idx = len(df['Fecha']) - 1\n",
        "newListx = []\n",
        "\n",
        "while (idx >= 0):\n",
        "  newListx.append(df['Fecha'][idx])\n",
        "  idx = idx - 1\n",
        "x = newListx\n",
        "df['Fecha'] = x"
      ],
      "execution_count": null,
      "outputs": []
    },
    {
      "cell_type": "markdown",
      "metadata": {
        "id": "-ttlNHEqwAq7"
      },
      "source": [
        "- Ordenar precios"
      ]
    },
    {
      "cell_type": "code",
      "metadata": {
        "id": "sUrM4DE5wDiG"
      },
      "source": [
        "idy = len(df['Precio']) - 1\n",
        "newListy = []\n",
        "\n",
        "while (idy >= 0):\n",
        "  newListy.append(df['Precio'][idy])\n",
        "  idy = idy - 1\n",
        "y = newListy\n",
        "df['Precio'] = y"
      ],
      "execution_count": null,
      "outputs": []
    },
    {
      "cell_type": "markdown",
      "metadata": {
        "id": "LI6WGTK6wIAT"
      },
      "source": [
        "- Ver gráfica"
      ]
    },
    {
      "cell_type": "code",
      "metadata": {
        "colab": {
          "base_uri": "https://localhost:8080/",
          "height": 576
        },
        "id": "z-1-Ov3DpHqH",
        "outputId": "459a2026-9c24-4da7-aafe-bebb0bf93a3e"
      },
      "source": [
        "fig, ax = plt.subplots(figsize = (15, 8))\n",
        "ax.plot(x, y)\n",
        "plt.xticks([-199, 533, 1263, 1993, 2724, 3454, 4186], ['2010', '2012', '2014', '2016', '2018', '2020', '2022'])\n",
        "plt.ylabel(\"Precio del Bitcoin (USD)\\n\\n\", fontsize = 14)\n",
        "plt.xlabel(\"\\n\\nAño\", fontsize = 14)\n",
        "plt.title(\"Precios del Bitcoin\\n\", fontsize = 20)\n",
        "\n",
        "# Mostrar\n",
        "plt.show()"
      ],
      "execution_count": null,
      "outputs": [
        {
          "output_type": "display_data",
          "data": {
            "image/png": "[encoded data removed]",
            "text/plain": [
              "<Figure size 1080x576 with 1 Axes>"
            ]
          },
          "metadata": {
            "needs_background": "light"
          }
        }
      ]
    },
    {
      "cell_type": "markdown",
      "metadata": {
        "id": "oJk26CBmrrgy"
      },
      "source": [
        "Se ve evidentemente que conforme se va acercando a la fecha actual, el precio del bitcoin va subiendo. Se está recuperando de una caída muy notoria.\n",
        "\n",
        "Además, gracias a esta gráfica podemos contestar la otra pregunta de interés:\n",
        "\n",
        "**> 2.- ¿En que año empezó el auge del valor del Bitcoin?**\n",
        "\n",
        "La respuesta es: **En 2020**. A pesar de que en 2018 tuvo una alza en el precio, volvió a bajar casi hasta donde empezó, pero en 2020 comenzó a crecer considerablemente. Tal vez por la contingencia del COVID-19."
      ]
    },
    {
      "cell_type": "markdown",
      "metadata": {
        "id": "H8Xaro0L0r31"
      },
      "source": [
        "Para la próxima gráfica, primero ordenamos lo precios mínimos de más antiguo a más actual."
      ]
    },
    {
      "cell_type": "code",
      "metadata": {
        "id": "VzMYqnjQBJcF",
        "colab": {
          "base_uri": "https://localhost:8080/",
          "height": 544
        },
        "outputId": "238f3540-ba3b-422e-aa05-aa345d2b266d"
      },
      "source": [
        "idz = len(df['Bajo']) - 1\n",
        "newListz = []\n",
        "\n",
        "while (idz >= 0):\n",
        "  newListz.append(df['Bajo'][idz])\n",
        "  idz = idz - 1\n",
        "z = newListz\n",
        "df['Bajo'] = z\n",
        "\n",
        "df[df['Precio'] < 70000].sample(500).plot.scatter(x = 'Bajo', y = 'Precio', figsize = (15, 7))\n",
        "plt.title(\"\\nDispersión 'Precio más bajo' VS 'Precio' del Bitcoin (2010 - 2021)\\n\", fontsize = 20)\n",
        "plt.xlabel(\"\\nPrecio menor (USD)\", fontsize = 13)\n",
        "plt.ylabel(\"Precio (USD)\\n\", fontsize = 13)"
      ],
      "execution_count": null,
      "outputs": [
        {
          "output_type": "execute_result",
          "data": {
            "text/plain": [
              "Text(0, 0.5, 'Precio (USD)\\n')"
            ]
          },
          "metadata": {},
          "execution_count": 43
        },
        {
          "output_type": "display_data",
          "data": {
            "image/png": "[encoded data removed]",
            "text/plain": [
              "<Figure size 1080x504 with 1 Axes>"
            ]
          },
          "metadata": {
            "needs_background": "light"
          }
        }
      ]
    },
    {
      "cell_type": "markdown",
      "metadata": {
        "id": "qwnzZwc6BeeS"
      },
      "source": [
        "Como vemos en la gráfica de dispersión, el precio y el precio menor del Bitcoin (Price, Low) están muy relacionados. Dependiendo de cuánto sea el precio menor (Low), será el precio del Bitcoin (Price) cada día.\n",
        "\n",
        "(Se usaron 500 muestras para poder ver mejor la dispersión en los precios más altos. Esto porque la mayoría de los datos están entre 0 y 10,000)"
      ]
    },
    {
      "cell_type": "code",
      "metadata": {
        "colab": {
          "base_uri": "https://localhost:8080/",
          "height": 338
        },
        "id": "mohpvwnmtSZZ",
        "outputId": "d3ce4976-d1b4-4cdc-fe2d-83f016d78801"
      },
      "source": [
        "df.Precio.hist(figsize=(10,5))"
      ],
      "execution_count": null,
      "outputs": [
        {
          "output_type": "execute_result",
          "data": {
            "text/plain": [
              "<matplotlib.axes._subplots.AxesSubplot at 0x7f91732f9e10>"
            ]
          },
          "metadata": {},
          "execution_count": 45
        },
        {
          "output_type": "display_data",
          "data": {
            "image/png": "[encoded data removed]",
            "text/plain": [
              "<Figure size 720x360 with 1 Axes>"
            ]
          },
          "metadata": {
            "needs_background": "light"
          }
        }
      ]
    },
    {
      "cell_type": "markdown",
      "metadata": {
        "id": "CbNHKob3tiMy"
      },
      "source": [
        "Podemos ver que el precio maximo alcanzado del bitcoin está alrededor del 60,000.\n",
        "\n",
        "Además, es claro que la mayoría de los datos del precio del Bitcoin están entre el 0 y el 10,000."
      ]
    },
    {
      "cell_type": "markdown",
      "metadata": {
        "id": "f_LGzIvb--P3"
      },
      "source": [
        "# Conclusión"
      ]
    },
    {
      "cell_type": "markdown",
      "metadata": {
        "id": "U9-7FXG__DVw"
      },
      "source": [
        "Con la estadística básica y lagunas gráfica, ya podemos contestar correctamente las preguntas de interés:\n",
        "\n",
        "**1.- ¿Cuál es precio más alto que ha alcanzado el Bitcoin?**\n",
        "\n",
        " La respuesta es: **63,540.8984375 USD**\n",
        "\n",
        "**2.- ¿En que año empezó el auge del valor del Bitcoin?**\n",
        " \n",
        "La respuesta es: **En 2020**. A pesar de que en 2018 tuvo una alza en el precio, volvió a bajar casi hasta donde empezó, pero en 2020 comenzó a crecer considerablemente. Tal vez por la contingencia del COVID-19.\n",
        "\n",
        "Parece que podemos decir que la tandencia del precio del Bitcoin es creciente y que así seguirá, pero todavía no lo podemos asegurar, ya que hubo momentos en los que el precio bajó considerablemente.\n",
        "\n",
        "La estrategia que teníamos era que debemos hacer predicciones para asegurar que resolvamos los objetivos correctamente, y eso sigue igual. Se harán predicciones, veremos su comportamiento y nos aseguraremos del comportamiento futuro del Bitcoin."
      ]
    }
  ]
}